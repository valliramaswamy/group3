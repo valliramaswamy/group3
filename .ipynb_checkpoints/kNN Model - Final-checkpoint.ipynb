{
 "cells": [
  {
   "cell_type": "code",
   "execution_count": 14,
   "id": "ee40926b",
   "metadata": {},
   "outputs": [
    {
     "name": "stdout",
     "output_type": "stream",
     "text": [
      "        airline source_city departure_time        stops arrival_time  \\\n",
      "184894  AirAsia     Chennai          Night          one      Morning   \n",
      "186660  AirAsia     Chennai        Morning  two_or_more   Late_Night   \n",
      "186659  AirAsia     Chennai        Morning          one   Late_Night   \n",
      "186658  AirAsia     Chennai        Morning  two_or_more        Night   \n",
      "186657  AirAsia     Chennai        Morning          one        Night   \n",
      "...         ...         ...            ...          ...          ...   \n",
      "211524  Vistara       Delhi        Evening          one        Night   \n",
      "87243   Vistara   Bangalore        Evening          one   Late_Night   \n",
      "87244   Vistara   Bangalore        Morning          one    Afternoon   \n",
      "87482   Vistara   Bangalore        Morning          one      Evening   \n",
      "300152  Vistara     Chennai        Morning          one      Evening   \n",
      "\n",
      "       destination_city     class  duration  days_left   price  \n",
      "184894            Delhi   Economy     10.92         33   27.25  \n",
      "186660            Delhi   Economy     16.00         44   27.25  \n",
      "186659            Delhi   Economy     15.17         44   27.25  \n",
      "186658            Delhi   Economy     13.50         44   27.25  \n",
      "186657            Delhi   Economy     11.67         44   27.25  \n",
      "...                 ...       ...       ...        ...     ...  \n",
      "211524           Mumbai  Business      5.83         45  647.64  \n",
      "87243             Delhi   Economy      5.17         18   45.22  \n",
      "87244             Delhi   Economy      5.58         18   45.22  \n",
      "87482             Delhi   Economy      8.58         19   45.22  \n",
      "300152        Hyderabad  Business     10.08         49  897.44  \n",
      "\n",
      "[300153 rows x 10 columns]\n"
     ]
    },
    {
     "name": "stderr",
     "output_type": "stream",
     "text": [
      "<ipython-input-14-3aec2c10b62d>:32: FutureWarning: In a future version of pandas all arguments of DataFrame.drop except for the argument 'labels' will be keyword-only.\n",
      "  df.drop('flight', 1, inplace=True)\n"
     ]
    }
   ],
   "source": [
    "# import os\n",
    "import platform\n",
    "import numpy as np\n",
    "import pandas as pd\n",
    "import matplotlib.pyplot as plt\n",
    "import seaborn as sns\n",
    "import scipy.stats as stats\n",
    "from sklearn.metrics import mean_squared_error\n",
    "from math import sqrt\n",
    "from collections import Counter\n",
    "from sklearn.model_selection import train_test_split\n",
    "from sklearn.linear_model import LinearRegression\n",
    "from sklearn.preprocessing import LabelEncoder\n",
    "from sklearn.model_selection import KFold\n",
    "from sklearn.neighbors import KNeighborsRegressor\n",
    "from sklearn import metrics\n",
    "from sklearn.model_selection import GridSearchCV\n",
    "from sklearn.preprocessing import StandardScaler\n",
    "\n",
    "#Faiza's code\n",
    "#Initial code cleanup\n",
    "filename_read = '/Users/valliramaswamy/Documents/MSci Data Science/Year-3/2IntrotoAI/group3CW/Clean_Dataset.csv'\n",
    "df =pd.read_csv(filename_read, index_col = 0)\n",
    "\n",
    "#Sorting values by airline\n",
    "df = df.sort_values(by='airline', ascending=True)\n",
    "\n",
    "#Checking overall and asking for sum of null values\n",
    "df.isnull().values.all().sum()\n",
    "\n",
    "# Dropping Flight column\n",
    "df.drop('flight', 1, inplace=True)\n",
    "\n",
    "# Changing price to Pounds\n",
    "df[\"price\"] = (df[\"price\"]*0.011).round(2)\n",
    "\n",
    "# Printinf dataset\n",
    "print(df)"
   ]
  },
  {
   "cell_type": "code",
   "execution_count": 15,
   "id": "ff05005c",
   "metadata": {},
   "outputs": [
    {
     "data": {
      "image/png": "[encoded data removed]",
      "text/plain": [
       "<Figure size 432x288 with 1 Axes>"
      ]
     },
     "metadata": {
      "needs_background": "light"
     },
     "output_type": "display_data"
    },
    {
     "name": "stderr",
     "output_type": "stream",
     "text": [
      "<ipython-input-15-b9f4698e8304>:27: FutureWarning: In a future version of pandas all arguments of DataFrame.drop except for the argument 'labels' will be keyword-only.\n",
      "  df.drop('price_outlier', 1, inplace=True)\n"
     ]
    },
    {
     "name": "stdout",
     "output_type": "stream",
     "text": [
      "229.78609928936243\n",
      "249.67505500334298\n",
      "Counter({0: 289222, 1: 10931})\n",
      "(289222, 11)\n"
     ]
    },
    {
     "name": "stderr",
     "output_type": "stream",
     "text": [
      "<ipython-input-15-b9f4698e8304>:27: SettingWithCopyWarning: \n",
      "A value is trying to be set on a copy of a slice from a DataFrame\n",
      "\n",
      "See the caveats in the documentation: https://pandas.pydata.org/pandas-docs/stable/user_guide/indexing.html#returning-a-view-versus-a-copy\n",
      "  df.drop('price_outlier', 1, inplace=True)\n"
     ]
    }
   ],
   "source": [
    "plt.boxplot(df['price'])\n",
    "plt.title('Box plot distribution of \"price\"')\n",
    "plt.show()\n",
    "\n",
    "# Valli's code\n",
    "# Feature Engineering: removing outliers & adding new logged price column\n",
    "\n",
    "# Creates a new column in the dataframe named 'price outlier'\n",
    "df['price_outlier'] = 0\n",
    "\n",
    "#to find the mean and standard deviation of the price values to work out the outlier\n",
    "price_mean = np.mean(df['price'])\n",
    "print(price_mean)\n",
    "price_std = np.std(df['price'])\n",
    "print(price_std)\n",
    "\n",
    "#calculation to assign 0 or 1 to the price values (0 if the datapoint is not an outlier & 1 if it is)\n",
    "df.loc[abs(df['price'] - price_mean) > 2 * price_std,'price_outlier'] = 1\n",
    "\n",
    "#This counts the number of unique outlier values\n",
    "print(Counter(df['price_outlier']))\n",
    "\n",
    "df = df[df.price_outlier != 1]\n",
    "print (df.shape)\n",
    "\n",
    "# Dropping 'price outlier' column\n",
    "df.drop('price_outlier', 1, inplace=True)"
   ]
  },
  {
   "cell_type": "code",
   "execution_count": 16,
   "id": "0f67c41e",
   "metadata": {},
   "outputs": [
    {
     "name": "stderr",
     "output_type": "stream",
     "text": [
      "<ipython-input-16-53f407739c4a>:5: SettingWithCopyWarning: \n",
      "A value is trying to be set on a copy of a slice from a DataFrame.\n",
      "Try using .loc[row_indexer,col_indexer] = value instead\n",
      "\n",
      "See the caveats in the documentation: https://pandas.pydata.org/pandas-docs/stable/user_guide/indexing.html#returning-a-view-versus-a-copy\n",
      "  df['airline'] = le.fit_transform(df['airline'])\n",
      "<ipython-input-16-53f407739c4a>:6: SettingWithCopyWarning: \n",
      "A value is trying to be set on a copy of a slice from a DataFrame.\n",
      "Try using .loc[row_indexer,col_indexer] = value instead\n",
      "\n",
      "See the caveats in the documentation: https://pandas.pydata.org/pandas-docs/stable/user_guide/indexing.html#returning-a-view-versus-a-copy\n",
      "  df['source_city'] = le.fit_transform(df['source_city'])\n",
      "<ipython-input-16-53f407739c4a>:7: SettingWithCopyWarning: \n",
      "A value is trying to be set on a copy of a slice from a DataFrame.\n",
      "Try using .loc[row_indexer,col_indexer] = value instead\n",
      "\n",
      "See the caveats in the documentation: https://pandas.pydata.org/pandas-docs/stable/user_guide/indexing.html#returning-a-view-versus-a-copy\n",
      "  df['departure_time'] = le.fit_transform(df['departure_time'])\n",
      "<ipython-input-16-53f407739c4a>:8: SettingWithCopyWarning: \n",
      "A value is trying to be set on a copy of a slice from a DataFrame.\n",
      "Try using .loc[row_indexer,col_indexer] = value instead\n",
      "\n",
      "See the caveats in the documentation: https://pandas.pydata.org/pandas-docs/stable/user_guide/indexing.html#returning-a-view-versus-a-copy\n",
      "  df['arrival_time'] = le.fit_transform(df['arrival_time'])\n",
      "<ipython-input-16-53f407739c4a>:9: SettingWithCopyWarning: \n",
      "A value is trying to be set on a copy of a slice from a DataFrame.\n",
      "Try using .loc[row_indexer,col_indexer] = value instead\n",
      "\n",
      "See the caveats in the documentation: https://pandas.pydata.org/pandas-docs/stable/user_guide/indexing.html#returning-a-view-versus-a-copy\n",
      "  df['destination_city'] = le.fit_transform(df['destination_city'])\n"
     ]
    },
    {
     "name": "stdout",
     "output_type": "stream",
     "text": [
      "['two_or_more', 'zero', 'one']\n",
      "        airline  source_city  departure_time  stops  arrival_time  \\\n",
      "184894        0            1               5      1             4   \n",
      "186660        0            1               4      2             3   \n",
      "186659        0            1               4      1             3   \n",
      "186658        0            1               4      2             5   \n",
      "186657        0            1               4      1             5   \n",
      "...         ...          ...             ...    ...           ...   \n",
      "211525        5            2               2      1             5   \n",
      "211524        5            2               2      1             5   \n",
      "87243         5            0               2      1             3   \n",
      "87244         5            0               4      1             0   \n",
      "87482         5            0               4      1             2   \n",
      "\n",
      "        destination_city  class  duration  days_left   price  \n",
      "184894                 2      1     10.92         33   27.25  \n",
      "186660                 2      1     16.00         44   27.25  \n",
      "186659                 2      1     15.17         44   27.25  \n",
      "186658                 2      1     13.50         44   27.25  \n",
      "186657                 2      1     11.67         44   27.25  \n",
      "...                  ...    ...       ...        ...     ...  \n",
      "211525                 5      0      7.33         45  647.64  \n",
      "211524                 5      0      5.83         45  647.64  \n",
      "87243                  2      1      5.17         18   45.22  \n",
      "87244                  2      1      5.58         18   45.22  \n",
      "87482                  2      1      8.58         19   45.22  \n",
      "\n",
      "[289222 rows x 10 columns]\n"
     ]
    },
    {
     "name": "stderr",
     "output_type": "stream",
     "text": [
      "<ipython-input-16-53f407739c4a>:10: SettingWithCopyWarning: \n",
      "A value is trying to be set on a copy of a slice from a DataFrame.\n",
      "Try using .loc[row_indexer,col_indexer] = value instead\n",
      "\n",
      "See the caveats in the documentation: https://pandas.pydata.org/pandas-docs/stable/user_guide/indexing.html#returning-a-view-versus-a-copy\n",
      "  df['class'] = le.fit_transform(df['class'])\n",
      "<ipython-input-16-53f407739c4a>:15: SettingWithCopyWarning: \n",
      "A value is trying to be set on a copy of a slice from a DataFrame.\n",
      "Try using .loc[row_indexer,col_indexer] = value instead\n",
      "\n",
      "See the caveats in the documentation: https://pandas.pydata.org/pandas-docs/stable/user_guide/indexing.html#returning-a-view-versus-a-copy\n",
      "  df['stops'] = df['stops'].replace([\"zero\", \"one\", \"two_or_more\"], [0, 1, 2])\n"
     ]
    }
   ],
   "source": [
    "#Aakash's code\n",
    "\n",
    "le = LabelEncoder()\n",
    "\n",
    "df['airline'] = le.fit_transform(df['airline'])\n",
    "df['source_city'] = le.fit_transform(df['source_city'])\n",
    "df['departure_time'] = le.fit_transform(df['departure_time'])\n",
    "df['arrival_time'] = le.fit_transform(df['arrival_time'])\n",
    "df['destination_city'] = le.fit_transform(df['destination_city'])\n",
    "df['class'] = le.fit_transform(df['class'])\n",
    "\n",
    "# Find unique values within the stops column\n",
    "print(list(set(df['stops'])))\n",
    "# Match and replace the numerical values in text with integers\n",
    "df['stops'] = df['stops'].replace([\"zero\", \"one\", \"two_or_more\"], [0, 1, 2])\n",
    "\n",
    "print(df)"
   ]
  },
  {
   "cell_type": "code",
   "execution_count": 18,
   "id": "d5f3272d",
   "metadata": {},
   "outputs": [],
   "source": [
    "# Defines X & y values for modelling \n",
    "\n",
    "result = []\n",
    "for x in df.columns:\n",
    "    if x != 'price':\n",
    "        result.append(x)\n",
    "        \n",
    "X = df[result].values\n",
    "y = df['price'].values"
   ]
  },
  {
   "cell_type": "code",
   "execution_count": 19,
   "id": "553eb23d",
   "metadata": {},
   "outputs": [
    {
     "name": "stdout",
     "output_type": "stream",
     "text": [
      "Root Mean Squared Error: 182.24470665457306\n",
      "Fold #1, Training Size: 231377, Validation Size: 57845\n",
      "Root Mean Squared Error: 182.10919234486562\n",
      "Fold #2, Training Size: 231377, Validation Size: 57845\n",
      "Root Mean Squared Error: 184.74825909688545\n",
      "Fold #3, Training Size: 231378, Validation Size: 57844\n",
      "Root Mean Squared Error: 182.62893957161126\n",
      "Fold #4, Training Size: 231378, Validation Size: 57844\n",
      "Root Mean Squared Error: 182.75791590010385\n",
      "Fold #5, Training Size: 231378, Validation Size: 57844\n"
     ]
    }
   ],
   "source": [
    "# Uses 5-fold split for 1 neighbour\n",
    "kf = KFold(5,shuffle=True)\n",
    "\n",
    "fold = 1\n",
    "\n",
    "for train_index, validate_index in kf.split(X,y):\n",
    "    knn_model = KNeighborsRegressor(n_neighbors=1)\n",
    "    knn_model.fit(X[train_index],y[train_index])\n",
    "    y_test = y[validate_index]\n",
    "    y_pred = knn_model.predict(X[validate_index])\n",
    "    print('Root Mean Squared Error:', np.sqrt(metrics.mean_squared_error(y_test, y_pred)))\n",
    "    print(f\"Fold #{fold}, Training Size: {len(X[train_index])}, Validation Size: {len(X[validate_index])}\")\n",
    "    \n",
    "    fold += 1"
   ]
  },
  {
   "cell_type": "code",
   "execution_count": 28,
   "id": "c9d6586d",
   "metadata": {},
   "outputs": [
    {
     "name": "stdout",
     "output_type": "stream",
     "text": [
      "Root Mean Squared Error: 140.7337186164531\n",
      "Fold #1, Training Size: 231377, Validation Size: 57845\n",
      "Root Mean Squared Error: 141.53829166782913\n",
      "Fold #2, Training Size: 231377, Validation Size: 57845\n",
      "Root Mean Squared Error: 142.63610406061798\n",
      "Fold #3, Training Size: 231378, Validation Size: 57844\n",
      "Root Mean Squared Error: 141.4001626671477\n",
      "Fold #4, Training Size: 231378, Validation Size: 57844\n",
      "Root Mean Squared Error: 141.22066330877163\n",
      "Fold #5, Training Size: 231378, Validation Size: 57844\n"
     ]
    }
   ],
   "source": [
    "# Uses 5-fold split for 2 neighbours\n",
    "kf = KFold(5,shuffle=True)\n",
    "\n",
    "fold = 1\n",
    "\n",
    "for train_index, validate_index in kf.split(X,y):\n",
    "    knn_model = KNeighborsRegressor(n_neighbors=2)\n",
    "    knn_model.fit(X[train_index],y[train_index])\n",
    "    y_test = y[validate_index]\n",
    "    y_pred = knn_model.predict(X[validate_index])\n",
    "    print('Root Mean Squared Error:', np.sqrt(metrics.mean_squared_error(y_test, y_pred)))\n",
    "    print(f\"Fold #{fold}, Training Size: {len(X[train_index])}, Validation Size: {len(X[validate_index])}\")\n",
    "    \n",
    "    fold += 1"
   ]
  },
  {
   "cell_type": "code",
   "execution_count": 21,
   "id": "9ed06781",
   "metadata": {},
   "outputs": [
    {
     "name": "stdout",
     "output_type": "stream",
     "text": [
      "Root Mean Squared Error: 125.5153202567237\n",
      "Fold #1, Training Size: 231377, Validation Size: 57845\n",
      "Root Mean Squared Error: 125.72066129337395\n",
      "Fold #2, Training Size: 231377, Validation Size: 57845\n",
      "Root Mean Squared Error: 125.50351978058241\n",
      "Fold #3, Training Size: 231378, Validation Size: 57844\n",
      "Root Mean Squared Error: 126.48331484700347\n",
      "Fold #4, Training Size: 231378, Validation Size: 57844\n",
      "Root Mean Squared Error: 126.16887418315933\n",
      "Fold #5, Training Size: 231378, Validation Size: 57844\n"
     ]
    }
   ],
   "source": [
    "# Uses 5-fold split for 3 neighbours\n",
    "kf = KFold(5,shuffle=True)\n",
    "\n",
    "fold = 1\n",
    "\n",
    "for train_index, validate_index in kf.split(X,y):\n",
    "    knn_model = KNeighborsRegressor(n_neighbors=3)\n",
    "    knn_model.fit(X[train_index],y[train_index])\n",
    "    y_test = y[validate_index]\n",
    "    y_pred = knn_model.predict(X[validate_index])\n",
    "    print('Root Mean Squared Error:', np.sqrt(metrics.mean_squared_error(y_test, y_pred)))\n",
    "    print(f\"Fold #{fold}, Training Size: {len(X[train_index])}, Validation Size: {len(X[validate_index])}\")\n",
    "    \n",
    "    fold += 1"
   ]
  },
  {
   "cell_type": "code",
   "execution_count": 22,
   "id": "65a2de37",
   "metadata": {},
   "outputs": [
    {
     "name": "stdout",
     "output_type": "stream",
     "text": [
      "Root Mean Squared Error: 124.22680260990956\n",
      "Fold #1, Training Size: 231377, Validation Size: 57845\n",
      "Root Mean Squared Error: 124.1279314041213\n",
      "Fold #2, Training Size: 231377, Validation Size: 57845\n",
      "Root Mean Squared Error: 124.59194315826244\n",
      "Fold #3, Training Size: 231378, Validation Size: 57844\n",
      "Root Mean Squared Error: 123.20640905348314\n",
      "Fold #4, Training Size: 231378, Validation Size: 57844\n",
      "Root Mean Squared Error: 123.9901331277271\n",
      "Fold #5, Training Size: 231378, Validation Size: 57844\n"
     ]
    }
   ],
   "source": [
    "# Uses 5-fold split for 4 neighbours\n",
    "kf = KFold(5,shuffle=True)\n",
    "\n",
    "fold = 1\n",
    "\n",
    "for train_index, validate_index in kf.split(X,y):\n",
    "    knn_model = KNeighborsRegressor(n_neighbors=4)\n",
    "    knn_model.fit(X[train_index],y[train_index])\n",
    "    y_test = y[validate_index]\n",
    "    y_pred = knn_model.predict(X[validate_index])\n",
    "    print('Root Mean Squared Error:', np.sqrt(metrics.mean_squared_error(y_test, y_pred)))\n",
    "    print(f\"Fold #{fold}, Training Size: {len(X[train_index])}, Validation Size: {len(X[validate_index])}\")\n",
    "    \n",
    "    fold += 1"
   ]
  },
  {
   "cell_type": "code",
   "execution_count": 23,
   "id": "ecae84f0",
   "metadata": {},
   "outputs": [
    {
     "name": "stdout",
     "output_type": "stream",
     "text": [
      "Root Mean Squared Error: 127.67906757782694\n",
      "Fold #1, Training Size: 231377, Validation Size: 57845\n",
      "Root Mean Squared Error: 127.16991983742284\n",
      "Fold #2, Training Size: 231377, Validation Size: 57845\n",
      "Root Mean Squared Error: 126.52980371595912\n",
      "Fold #3, Training Size: 231378, Validation Size: 57844\n",
      "Root Mean Squared Error: 127.34274362750088\n",
      "Fold #4, Training Size: 231378, Validation Size: 57844\n",
      "Root Mean Squared Error: 127.05563061684853\n",
      "Fold #5, Training Size: 231378, Validation Size: 57844\n"
     ]
    }
   ],
   "source": [
    "# Uses 5-fold split for 5 neighbours\n",
    "kf = KFold(5,shuffle=True)\n",
    "\n",
    "fold = 1\n",
    "\n",
    "for train_index, validate_index in kf.split(X,y):\n",
    "    knn_model = KNeighborsRegressor(n_neighbors=5)\n",
    "    knn_model.fit(X[train_index],y[train_index])\n",
    "    y_test = y[validate_index]\n",
    "    y_pred = knn_model.predict(X[validate_index])\n",
    "    print('Root Mean Squared Error:', np.sqrt(metrics.mean_squared_error(y_test, y_pred)))\n",
    "    print(f\"Fold #{fold}, Training Size: {len(X[train_index])}, Validation Size: {len(X[validate_index])}\")\n",
    "    \n",
    "    fold += 1"
   ]
  },
  {
   "cell_type": "code",
   "execution_count": 24,
   "id": "f400c81d",
   "metadata": {},
   "outputs": [
    {
     "name": "stdout",
     "output_type": "stream",
     "text": [
      "Root Mean Squared Error: 129.49185478340053\n",
      "Fold #1, Training Size: 231377, Validation Size: 57845\n",
      "Root Mean Squared Error: 130.61051040000476\n",
      "Fold #2, Training Size: 231377, Validation Size: 57845\n",
      "Root Mean Squared Error: 129.63375951669437\n",
      "Fold #3, Training Size: 231378, Validation Size: 57844\n",
      "Root Mean Squared Error: 129.4707616258651\n",
      "Fold #4, Training Size: 231378, Validation Size: 57844\n",
      "Root Mean Squared Error: 129.31980113802112\n",
      "Fold #5, Training Size: 231378, Validation Size: 57844\n"
     ]
    }
   ],
   "source": [
    "# Uses 5-fold split for 6 neighbours\n",
    "kf = KFold(5,shuffle=True)\n",
    "\n",
    "fold = 1\n",
    "\n",
    "for train_index, validate_index in kf.split(X,y):\n",
    "    knn_model = KNeighborsRegressor(n_neighbors=6)\n",
    "    knn_model.fit(X[train_index],y[train_index])\n",
    "    y_test = y[validate_index]\n",
    "    y_pred = knn_model.predict(X[validate_index])\n",
    "    print('Root Mean Squared Error:', np.sqrt(metrics.mean_squared_error(y_test, y_pred)))\n",
    "    print(f\"Fold #{fold}, Training Size: {len(X[train_index])}, Validation Size: {len(X[validate_index])}\")\n",
    "    \n",
    "    fold += 1"
   ]
  },
  {
   "cell_type": "code",
   "execution_count": 25,
   "id": "9376543d",
   "metadata": {},
   "outputs": [
    {
     "data": {
      "text/plain": [
       "{'n_neighbors': 4}"
      ]
     },
     "execution_count": 25,
     "metadata": {},
     "output_type": "execute_result"
    }
   ],
   "source": [
    "#Applying GridsearchCV to determine the optimal number of neighbours\n",
    "\n",
    "parameters = {\"n_neighbors\": range(1, 5)}\n",
    "gridsearch = GridSearchCV(KNeighborsRegressor(), parameters)\n",
    "gridsearch.fit(X, y)\n",
    "gridsearch.best_params_"
   ]
  },
  {
   "cell_type": "code",
   "execution_count": 27,
   "id": "99d46e8d",
   "metadata": {},
   "outputs": [
    {
     "data": {
      "text/plain": [
       "<AxesSubplot: title={'center': 'kNN Model'}, xlabel='Actual', ylabel='Predicted'>"
      ]
     },
     "execution_count": 27,
     "metadata": {},
     "output_type": "execute_result"
    },
    {
     "data": {
      "image/png": "[encoded data removed]",
      "text/plain": [
       "<Figure size 432x288 with 1 Axes>"
      ]
     },
     "metadata": {
      "needs_background": "light"
     },
     "output_type": "display_data"
    }
   ],
   "source": [
    "#Plotting actual VS predicted price values to display its regression line\n",
    "\n",
    "plt.scatter(y_pred[:2000], y_test[:2000])\n",
    "plt.title('kNN Model')\n",
    "plt.xlabel('Actual')\n",
    "plt.ylabel('Predicted')\n",
    "sns.regplot(x = y_test, y = y_pred, scatter = False)"
   ]
  },
  {
   "cell_type": "code",
   "execution_count": null,
   "id": "a08be556",
   "metadata": {},
   "outputs": [],
   "source": []
  }
 ],
 "metadata": {
  "kernelspec": {
   "display_name": "Python 3",
   "language": "python",
   "name": "python3"
  },
  "language_info": {
   "codemirror_mode": {
    "name": "ipython",
    "version": 3
   },
   "file_extension": ".py",
   "mimetype": "text/x-python",
   "name": "python",
   "nbconvert_exporter": "python",
   "pygments_lexer": "ipython3",
   "version": "3.8.8"
  }
 },
 "nbformat": 4,
 "nbformat_minor": 5
}
