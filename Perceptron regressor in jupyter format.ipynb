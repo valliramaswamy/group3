{
 "cells": [
  {
   "cell_type": "code",
   "execution_count": 1,
   "id": "3ff3d67c",
   "metadata": {},
   "outputs": [
    {
     "name": "stdout",
     "output_type": "stream",
     "text": [
      "        Unnamed: 0   airline   flight source_city departure_time stops  \\\n",
      "0                0  SpiceJet  SG-8709       Delhi        Evening  zero   \n",
      "1                1  SpiceJet  SG-8157       Delhi  Early_Morning  zero   \n",
      "2                2   AirAsia   I5-764       Delhi  Early_Morning  zero   \n",
      "3                3   Vistara   UK-995       Delhi        Morning  zero   \n",
      "4                4   Vistara   UK-963       Delhi        Morning  zero   \n",
      "...            ...       ...      ...         ...            ...   ...   \n",
      "300148      300148   Vistara   UK-822     Chennai        Morning   one   \n",
      "300149      300149   Vistara   UK-826     Chennai      Afternoon   one   \n",
      "300150      300150   Vistara   UK-832     Chennai  Early_Morning   one   \n",
      "300151      300151   Vistara   UK-828     Chennai  Early_Morning   one   \n",
      "300152      300152   Vistara   UK-822     Chennai        Morning   one   \n",
      "\n",
      "         arrival_time destination_city     class  duration  days_left  price  \n",
      "0               Night           Mumbai   Economy      2.17          1   5953  \n",
      "1             Morning           Mumbai   Economy      2.33          1   5953  \n",
      "2       Early_Morning           Mumbai   Economy      2.17          1   5956  \n",
      "3           Afternoon           Mumbai   Economy      2.25          1   5955  \n",
      "4             Morning           Mumbai   Economy      2.33          1   5955  \n",
      "...               ...              ...       ...       ...        ...    ...  \n",
      "300148        Evening        Hyderabad  Business     10.08         49  69265  \n",
      "300149          Night        Hyderabad  Business     10.42         49  77105  \n",
      "300150          Night        Hyderabad  Business     13.83         49  79099  \n",
      "300151        Evening        Hyderabad  Business     10.00         49  81585  \n",
      "300152        Evening        Hyderabad  Business     10.08         49  81585  \n",
      "\n",
      "[300153 rows x 12 columns]\n"
     ]
    }
   ],
   "source": [
    "import os\n",
    "import platform\n",
    "import numpy as np\n",
    "import pandas as pd\n",
    "import matplotlib.pyplot as plt\n",
    "import seaborn as sns\n",
    "from sklearn.metrics import mean_squared_error\n",
    "from math import sqrt\n",
    "from collections import Counter\n",
    "from sklearn.model_selection import train_test_split\n",
    "from sklearn.linear_model import LinearRegression\n",
    "from sklearn.preprocessing import LabelEncoder\n",
    "from sklearn.neighbors import KNeighborsRegressor\n",
    "from sklearn import metrics\n",
    "from sklearn.model_selection import GridSearchCV\n",
    "from sklearn import datasets\n",
    "from sklearn.preprocessing import StandardScaler\n",
    "from sklearn.linear_model import Perceptron\n",
    "from sklearn.model_selection import train_test_split\n",
    "from sklearn.metrics import accuracy_score\n",
    "from sklearn.model_selection import KFold\n",
    "import math\n",
    "import matplotlib.pyplot as plt\n",
    "import seaborn as sns\n",
    "\n",
    "from sklearn.neural_network import MLPRegressor\n",
    "from sklearn import metrics\n",
    "\n",
    "datapath = \"/Users/adil/Documents/INTRO TO AI COURSEWORK/Clean_Dataset.csv\"\n",
    "# this will read the dataset as a dataframe i.e. flight is the dataframe \n",
    "flight = pd.read_csv(datapath)\n",
    "\n",
    "flight.head()\n",
    "\n",
    "print(flight)"
   ]
  },
  {
   "cell_type": "code",
   "execution_count": 2,
   "id": "5f4389fd",
   "metadata": {},
   "outputs": [
    {
     "name": "stdout",
     "output_type": "stream",
     "text": [
      "        Unnamed: 0   airline source_city departure_time stops   arrival_time  \\\n",
      "0                0  SpiceJet       Delhi        Evening  zero          Night   \n",
      "1                1  SpiceJet       Delhi  Early_Morning  zero        Morning   \n",
      "2                2   AirAsia       Delhi  Early_Morning  zero  Early_Morning   \n",
      "3                3   Vistara       Delhi        Morning  zero      Afternoon   \n",
      "4                4   Vistara       Delhi        Morning  zero        Morning   \n",
      "...            ...       ...         ...            ...   ...            ...   \n",
      "300148      300148   Vistara     Chennai        Morning   one        Evening   \n",
      "300149      300149   Vistara     Chennai      Afternoon   one          Night   \n",
      "300150      300150   Vistara     Chennai  Early_Morning   one          Night   \n",
      "300151      300151   Vistara     Chennai  Early_Morning   one        Evening   \n",
      "300152      300152   Vistara     Chennai        Morning   one        Evening   \n",
      "\n",
      "       destination_city     class  duration  days_left   price  \n",
      "0                Mumbai   Economy      2.17          1   65.48  \n",
      "1                Mumbai   Economy      2.33          1   65.48  \n",
      "2                Mumbai   Economy      2.17          1   65.52  \n",
      "3                Mumbai   Economy      2.25          1   65.50  \n",
      "4                Mumbai   Economy      2.33          1   65.50  \n",
      "...                 ...       ...       ...        ...     ...  \n",
      "300148        Hyderabad  Business     10.08         49  761.92  \n",
      "300149        Hyderabad  Business     10.42         49  848.16  \n",
      "300150        Hyderabad  Business     13.83         49  870.09  \n",
      "300151        Hyderabad  Business     10.00         49  897.44  \n",
      "300152        Hyderabad  Business     10.08         49  897.44  \n",
      "\n",
      "[300153 rows x 11 columns]\n"
     ]
    },
    {
     "name": "stderr",
     "output_type": "stream",
     "text": [
      "/var/folders/vb/3st2qktx4zx_kdrh74zrrl8r0000gn/T/ipykernel_54469/3048691129.py:36: FutureWarning: In a future version of pandas all arguments of DataFrame.drop except for the argument 'labels' will be keyword-only.\n",
      "  flight.drop('flight', 1, inplace=True)\n"
     ]
    }
   ],
   "source": [
    "# FAIZA:\n",
    "#Checking for null values in airline\n",
    "flight['airline'].isnull().sum()\n",
    "\n",
    "#Checking for null values in source city\n",
    "flight['source_city'].isnull().sum()\n",
    "\n",
    "#Checking for null values in departure time\n",
    "flight['departure_time'].isnull().sum()\n",
    "\n",
    "#Checking for null values in stops\n",
    "flight['stops'].isnull().sum()\n",
    "\n",
    "#Checking for null values in arrival_time\n",
    "flight['arrival_time'].isnull().sum()\n",
    "\n",
    "#Checking for null values in destination city\n",
    "flight['destination_city'].isnull().sum()\n",
    "\n",
    "#Checking for null values in class\n",
    "flight['class'].isnull().sum()\n",
    "\n",
    "#Checking for null values in duration\n",
    "flight['duration'].isnull().sum()\n",
    " \n",
    "#Checking for null values in days left\n",
    "flight['days_left'].isnull().sum()\n",
    "\n",
    "#Checking for null values in price\n",
    "flight['price'].isnull().sum()\n",
    "\n",
    "#Checking overall and asking for sum of null values\n",
    "flight.isnull().values.all().sum()\n",
    "\n",
    "# Dropping Flight column. Not in perceptron as not in that column. \n",
    "flight.drop('flight', 1, inplace=True)\n",
    "\n",
    "# Changing price to Pounds\n",
    "flight[\"price\"] = (flight[\"price\"]*0.011).round(2)\n",
    "\n",
    "print(flight)"
   ]
  },
  {
   "cell_type": "code",
   "execution_count": 3,
   "id": "fceb1ca3",
   "metadata": {},
   "outputs": [
    {
     "data": {
      "image/png": "[encoded data removed]",
      "text/plain": [
       "<Figure size 640x480 with 1 Axes>"
      ]
     },
     "metadata": {},
     "output_type": "display_data"
    },
    {
     "name": "stdout",
     "output_type": "stream",
     "text": [
      "Unnamed: 0          False\n",
      "airline             False\n",
      "source_city         False\n",
      "departure_time      False\n",
      "stops               False\n",
      "arrival_time        False\n",
      "destination_city    False\n",
      "class               False\n",
      "duration            False\n",
      "days_left           False\n",
      "price               False\n",
      "dtype: bool\n"
     ]
    }
   ],
   "source": [
    "# VALLI:\n",
    "# Feature Engineering: removing outliers & adding new logged price column\n",
    "plt.boxplot(flight['price'])\n",
    "plt.show()\n",
    "\n",
    "print(flight.isnull().any())"
   ]
  },
  {
   "cell_type": "code",
   "execution_count": 4,
   "id": "4023aa69",
   "metadata": {},
   "outputs": [
    {
     "name": "stdout",
     "output_type": "stream",
     "text": [
      "229.7860992894353\n",
      "249.67505500334724\n",
      "Counter({0: 289222, 1: 10931})\n",
      "(289222, 12)\n"
     ]
    },
    {
     "name": "stderr",
     "output_type": "stream",
     "text": [
      "/var/folders/vb/3st2qktx4zx_kdrh74zrrl8r0000gn/T/ipykernel_54469/951093724.py:20: FutureWarning: In a future version of pandas all arguments of DataFrame.drop except for the argument 'labels' will be keyword-only.\n",
      "  flight.drop('price_outlier', 1, inplace=True)\n"
     ]
    }
   ],
   "source": [
    "# Creates a new column in the dataframe named 'price outlier'\n",
    "flight['price_outlier'] = 0\n",
    "\n",
    "#to find the mean and standard deviation of the price values to work out the outlier\n",
    "price_mean = np.mean(flight['price'])\n",
    "print(price_mean)\n",
    "price_std = np.std(flight['price'])\n",
    "print(price_std)\n",
    "\n",
    "#calculation to assign 0 or 1 to the price values (0 if the datapoint is not an outlier & 1 if it is)\n",
    "flight.loc[abs(flight['price'] - price_mean) > 2 * price_std,'price_outlier'] = 1\n",
    "\n",
    "#This counts the number of unique outlier values\n",
    "print(Counter(flight['price_outlier']))\n",
    "\n",
    "flight = flight[flight.price_outlier != 1]\n",
    "print (flight.shape) \n",
    "\n",
    "# Dropping 'price outlier' column\n",
    "flight.drop('price_outlier', 1, inplace=True)"
   ]
  },
  {
   "cell_type": "code",
   "execution_count": 5,
   "id": "7ebcbbdf",
   "metadata": {},
   "outputs": [
    {
     "name": "stdout",
     "output_type": "stream",
     "text": [
      "['zero', 'two_or_more', 'one']\n",
      "   Unnamed: 0  airline  source_city  departure_time  stops  arrival_time  \\\n",
      "0           0        4            2               2      0             5   \n",
      "1           1        4            2               1      0             4   \n",
      "2           2        0            2               1      0             1   \n",
      "3           3        5            2               4      0             0   \n",
      "4           4        5            2               4      0             4   \n",
      "\n",
      "   destination_city  class  duration  days_left  price  \n",
      "0                 5      1      2.17          1  65.48  \n",
      "1                 5      1      2.33          1  65.48  \n",
      "2                 5      1      2.17          1  65.52  \n",
      "3                 5      1      2.25          1  65.50  \n",
      "4                 5      1      2.33          1  65.50  \n"
     ]
    }
   ],
   "source": [
    "# AAKASH:\n",
    "le = LabelEncoder()\n",
    "\n",
    "flight['airline'] = le.fit_transform(flight['airline'])\n",
    "flight['source_city'] = le.fit_transform(flight['source_city'])\n",
    "flight['departure_time'] = le.fit_transform(flight['departure_time'])\n",
    "flight['arrival_time'] = le.fit_transform(flight['arrival_time'])\n",
    "flight['destination_city'] = le.fit_transform(flight['destination_city'])\n",
    "flight['class'] = le.fit_transform(flight['class'])\n",
    "\n",
    "\n",
    "\n",
    "# Find unique values within the stops column\n",
    "print(list(set(flight['stops'])))\n",
    "\n",
    "# Match and replace the numerical values in text with integers\n",
    "flight['stops'] = flight['stops'].replace([\"zero\", \"one\", \"two_or_more\"], [0, 1, 2])\n",
    "\n",
    "print(flight.head())"
   ]
  },
  {
   "cell_type": "code",
   "execution_count": 6,
   "id": "93f6a367",
   "metadata": {},
   "outputs": [],
   "source": [
    "result = []\n",
    "\n",
    "\n",
    "for x in flight.columns:\n",
    "    if x != 'price':\n",
    "        result.append(x)\n",
    "\n",
    "\n",
    "X = flight[result].values\n",
    "y = flight['price'].values\n",
    "\n",
    "MLPpercep = MLPRegressor()"
   ]
  },
  {
   "cell_type": "code",
   "execution_count": null,
   "id": "fd423635",
   "metadata": {},
   "outputs": [],
   "source": [
    "#Use K fold 5 split\n",
    "\n",
    "kf = KFold(5,shuffle=True)\n",
    "fold = 1\n",
    "for train_index, validate_index in kf.split(X,y):\n",
    "    # ERROR BECAUSE OF LINE 128 (fixed because of the new X instead of just the dataframe  )\n",
    "    MLPpercep.fit(X[train_index],y[train_index])\n",
    "    y_test = y[validate_index]\n",
    "    y_pred = MLPpercep.predict(X[validate_index])\n",
    "\n",
    "    print('Root Mean Squared Error:', np.sqrt(metrics.mean_squared_error(y_test, y_pred)))\n",
    "    print(f\"Fold #{fold}, Training Size: {len(X[train_index])}, Validation Size: {len(X[validate_index])}\")\n",
    "    fold += 1"
   ]
  },
  {
   "cell_type": "code",
   "execution_count": null,
   "id": "7e9ff4a1",
   "metadata": {},
   "outputs": [],
   "source": [
    "plt.scatter(y_pred[:2000], y_test[:2000])\n",
    "plt.title('MLP Model')\n",
    "plt.xlabel('Actual')\n",
    "plt.ylabel('Predicted')\n",
    "sns.regplot(x = y_test, y = y_pred, scatter = False)\n",
    "\n",
    "plt.show()"
   ]
  },
  {
   "cell_type": "code",
   "execution_count": null,
   "id": "787df7b4",
   "metadata": {},
   "outputs": [],
   "source": []
  }
 ],
 "metadata": {
  "kernelspec": {
   "display_name": "Python 3 (ipykernel)",
   "language": "python",
   "name": "python3"
  },
  "language_info": {
   "codemirror_mode": {
    "name": "ipython",
    "version": 3
   },
   "file_extension": ".py",
   "mimetype": "text/x-python",
   "name": "python",
   "nbconvert_exporter": "python",
   "pygments_lexer": "ipython3",
   "version": "3.9.12"
  }
 },
 "nbformat": 4,
 "nbformat_minor": 5
}
