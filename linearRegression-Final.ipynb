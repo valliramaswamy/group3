{
 "cells": [
  {
   "cell_type": "code",
   "execution_count": 1,
   "id": "011b1628",
   "metadata": {},
   "outputs": [
    {
     "name": "stdout",
     "output_type": "stream",
     "text": [
      "        airline source_city departure_time        stops arrival_time  \\\n",
      "184894  AirAsia     Chennai          Night          one      Morning   \n",
      "186660  AirAsia     Chennai        Morning  two_or_more   Late_Night   \n",
      "186659  AirAsia     Chennai        Morning          one   Late_Night   \n",
      "186658  AirAsia     Chennai        Morning  two_or_more        Night   \n",
      "186657  AirAsia     Chennai        Morning          one        Night   \n",
      "...         ...         ...            ...          ...          ...   \n",
      "211524  Vistara       Delhi        Evening          one        Night   \n",
      "87243   Vistara   Bangalore        Evening          one   Late_Night   \n",
      "87244   Vistara   Bangalore        Morning          one    Afternoon   \n",
      "87482   Vistara   Bangalore        Morning          one      Evening   \n",
      "300152  Vistara     Chennai        Morning          one      Evening   \n",
      "\n",
      "       destination_city     class  duration  days_left   price  \n",
      "184894            Delhi   Economy     10.92         33   27.25  \n",
      "186660            Delhi   Economy     16.00         44   27.25  \n",
      "186659            Delhi   Economy     15.17         44   27.25  \n",
      "186658            Delhi   Economy     13.50         44   27.25  \n",
      "186657            Delhi   Economy     11.67         44   27.25  \n",
      "...                 ...       ...       ...        ...     ...  \n",
      "211524           Mumbai  Business      5.83         45  647.64  \n",
      "87243             Delhi   Economy      5.17         18   45.22  \n",
      "87244             Delhi   Economy      5.58         18   45.22  \n",
      "87482             Delhi   Economy      8.58         19   45.22  \n",
      "300152        Hyderabad  Business     10.08         49  897.44  \n",
      "\n",
      "[300153 rows x 10 columns]\n"
     ]
    },
    {
     "name": "stderr",
     "output_type": "stream",
     "text": [
      "C:\\Users\\kinga\\AppData\\Local\\Temp\\ipykernel_7312\\1894303865.py:26: FutureWarning: In a future version of pandas all arguments of DataFrame.drop except for the argument 'labels' will be keyword-only.\n",
      "  originalDataset.drop('flight', 1, inplace = True)\n"
     ]
    }
   ],
   "source": [
    "import os\n",
    "import platform\n",
    "import numpy as np\n",
    "import pandas as pd\n",
    "import matplotlib.pyplot as plt\n",
    "import scipy.stats as stats\n",
    "import seaborn as sb\n",
    "\n",
    "from collections import Counter\n",
    "from sklearn.model_selection import train_test_split\n",
    "from sklearn.model_selection import KFold\n",
    "from sklearn.model_selection import cross_val_score\n",
    "from sklearn.linear_model import LinearRegression, Ridge, Lasso\n",
    "from sklearn.preprocessing import LabelEncoder\n",
    "from sklearn import metrics\n",
    "\n",
    "path = \".\"\n",
    "\n",
    "originalDatasetFile = os.path.join(path, \"Clean_Dataset.csv\")\n",
    "originalDataset = pd.read_csv(originalDatasetFile, index_col = 0)\n",
    "\n",
    "# Sorting the results by airline in ascending order\n",
    "originalDataset = originalDataset.sort_values(by = 'airline', ascending = True)\n",
    "\n",
    "# Dropping the flight column as it's not important for modelling\n",
    "originalDataset.drop('flight', 1, inplace = True)\n",
    "\n",
    "# Converting the price from Indian rupees to GBP\n",
    "originalDataset['price'] = (originalDataset[\"price\"]*0.011).round(2)\n",
    "\n",
    "# Print the dataset\n",
    "print(originalDataset)"
   ]
  },
  {
   "cell_type": "code",
   "execution_count": 2,
   "id": "0148fe48",
   "metadata": {},
   "outputs": [
    {
     "data": {
      "image/png": "[encoded data removed]",
      "text/plain": [
       "<Figure size 432x288 with 1 Axes>"
      ]
     },
     "metadata": {
      "needs_background": "light"
     },
     "output_type": "display_data"
    },
    {
     "name": "stdout",
     "output_type": "stream",
     "text": [
      "airline             False\n",
      "source_city         False\n",
      "departure_time      False\n",
      "stops               False\n",
      "arrival_time        False\n",
      "destination_city    False\n",
      "class               False\n",
      "duration            False\n",
      "days_left           False\n",
      "price               False\n",
      "dtype: bool\n"
     ]
    }
   ],
   "source": [
    "#Valli's code - further cleanup of the data (feature engineering)\n",
    "\n",
    "plt.boxplot(originalDataset['price'])\n",
    "plt.show()\n",
    "\n",
    "print(originalDataset.isnull().any())"
   ]
  },
  {
   "cell_type": "code",
   "execution_count": 3,
   "id": "8349cc4d",
   "metadata": {},
   "outputs": [
    {
     "name": "stdout",
     "output_type": "stream",
     "text": [
      "229.78609928936243\n",
      "249.67505500334298\n",
      "Counter({0: 289222, 1: 10931})\n",
      "(289222, 11)\n"
     ]
    },
    {
     "name": "stderr",
     "output_type": "stream",
     "text": [
      "C:\\Users\\kinga\\AppData\\Local\\Temp\\ipykernel_7312\\2854553718.py:21: FutureWarning: In a future version of pandas all arguments of DataFrame.drop except for the argument 'labels' will be keyword-only.\n",
      "  originalDataset.drop('price_outlier', 1, inplace = True)\n",
      "C:\\Users\\kinga\\AppData\\Local\\Temp\\ipykernel_7312\\2854553718.py:21: SettingWithCopyWarning: \n",
      "A value is trying to be set on a copy of a slice from a DataFrame\n",
      "\n",
      "See the caveats in the documentation: https://pandas.pydata.org/pandas-docs/stable/user_guide/indexing.html#returning-a-view-versus-a-copy\n",
      "  originalDataset.drop('price_outlier', 1, inplace = True)\n"
     ]
    }
   ],
   "source": [
    "## Valli's code\n",
    "#creates a new column in the dataframe named 'price outlier'\n",
    "originalDataset['price_outlier'] = 0\n",
    "\n",
    "#to find the mean and standard deviation of the price values to work out the outlier\n",
    "price_mean = np.mean(originalDataset['price'])\n",
    "print(price_mean)\n",
    "price_std = np.std(originalDataset['price'])\n",
    "print(price_std)\n",
    "\n",
    "#calculation to assign 0 or 1 to the price values (0 if the datapoint is not an outlier & 1 if it is)\n",
    "originalDataset.loc[abs(originalDataset['price'] - price_mean) > 2 * price_std,'price_outlier'] = 1\n",
    "\n",
    "#This counts the number of unique outlier values\n",
    "print(Counter(originalDataset['price_outlier']))\n",
    "\n",
    "originalDataset = originalDataset[originalDataset.price_outlier != 1]\n",
    "print (originalDataset.shape)\n",
    "\n",
    "# Dropping the price outlier column as it may affect the final model results\n",
    "originalDataset.drop('price_outlier', 1, inplace = True)"
   ]
  },
  {
   "cell_type": "code",
   "execution_count": 4,
   "id": "c7e56f9e",
   "metadata": {},
   "outputs": [
    {
     "name": "stderr",
     "output_type": "stream",
     "text": [
      "C:\\Users\\kinga\\AppData\\Local\\Temp\\ipykernel_7312\\2066078379.py:5: SettingWithCopyWarning: \n",
      "A value is trying to be set on a copy of a slice from a DataFrame.\n",
      "Try using .loc[row_indexer,col_indexer] = value instead\n",
      "\n",
      "See the caveats in the documentation: https://pandas.pydata.org/pandas-docs/stable/user_guide/indexing.html#returning-a-view-versus-a-copy\n",
      "  originalDataset['airline'] = le.fit_transform(originalDataset['airline'])\n",
      "C:\\Users\\kinga\\AppData\\Local\\Temp\\ipykernel_7312\\2066078379.py:6: SettingWithCopyWarning: \n",
      "A value is trying to be set on a copy of a slice from a DataFrame.\n",
      "Try using .loc[row_indexer,col_indexer] = value instead\n",
      "\n",
      "See the caveats in the documentation: https://pandas.pydata.org/pandas-docs/stable/user_guide/indexing.html#returning-a-view-versus-a-copy\n",
      "  originalDataset['source_city'] = le.fit_transform(originalDataset['source_city'])\n",
      "C:\\Users\\kinga\\AppData\\Local\\Temp\\ipykernel_7312\\2066078379.py:7: SettingWithCopyWarning: \n",
      "A value is trying to be set on a copy of a slice from a DataFrame.\n",
      "Try using .loc[row_indexer,col_indexer] = value instead\n",
      "\n",
      "See the caveats in the documentation: https://pandas.pydata.org/pandas-docs/stable/user_guide/indexing.html#returning-a-view-versus-a-copy\n",
      "  originalDataset['departure_time'] = le.fit_transform(originalDataset['departure_time'])\n",
      "C:\\Users\\kinga\\AppData\\Local\\Temp\\ipykernel_7312\\2066078379.py:8: SettingWithCopyWarning: \n",
      "A value is trying to be set on a copy of a slice from a DataFrame.\n",
      "Try using .loc[row_indexer,col_indexer] = value instead\n",
      "\n",
      "See the caveats in the documentation: https://pandas.pydata.org/pandas-docs/stable/user_guide/indexing.html#returning-a-view-versus-a-copy\n",
      "  originalDataset['arrival_time'] = le.fit_transform(originalDataset['arrival_time'])\n",
      "C:\\Users\\kinga\\AppData\\Local\\Temp\\ipykernel_7312\\2066078379.py:9: SettingWithCopyWarning: \n",
      "A value is trying to be set on a copy of a slice from a DataFrame.\n",
      "Try using .loc[row_indexer,col_indexer] = value instead\n",
      "\n",
      "See the caveats in the documentation: https://pandas.pydata.org/pandas-docs/stable/user_guide/indexing.html#returning-a-view-versus-a-copy\n",
      "  originalDataset['destination_city'] = le.fit_transform(originalDataset['destination_city'])\n",
      "C:\\Users\\kinga\\AppData\\Local\\Temp\\ipykernel_7312\\2066078379.py:10: SettingWithCopyWarning: \n",
      "A value is trying to be set on a copy of a slice from a DataFrame.\n",
      "Try using .loc[row_indexer,col_indexer] = value instead\n",
      "\n",
      "See the caveats in the documentation: https://pandas.pydata.org/pandas-docs/stable/user_guide/indexing.html#returning-a-view-versus-a-copy\n",
      "  originalDataset['class'] = le.fit_transform(originalDataset['class'])\n"
     ]
    },
    {
     "name": "stdout",
     "output_type": "stream",
     "text": [
      "['two_or_more', 'one', 'zero']\n",
      "        airline  source_city  departure_time  stops  arrival_time  \\\n",
      "184894        0            1               5      1             4   \n",
      "186660        0            1               4      2             3   \n",
      "186659        0            1               4      1             3   \n",
      "186658        0            1               4      2             5   \n",
      "186657        0            1               4      1             5   \n",
      "\n",
      "        destination_city  class  duration  days_left  price  \n",
      "184894                 2      1     10.92         33  27.25  \n",
      "186660                 2      1     16.00         44  27.25  \n",
      "186659                 2      1     15.17         44  27.25  \n",
      "186658                 2      1     13.50         44  27.25  \n",
      "186657                 2      1     11.67         44  27.25  \n"
     ]
    },
    {
     "name": "stderr",
     "output_type": "stream",
     "text": [
      "C:\\Users\\kinga\\AppData\\Local\\Temp\\ipykernel_7312\\2066078379.py:16: SettingWithCopyWarning: \n",
      "A value is trying to be set on a copy of a slice from a DataFrame.\n",
      "Try using .loc[row_indexer,col_indexer] = value instead\n",
      "\n",
      "See the caveats in the documentation: https://pandas.pydata.org/pandas-docs/stable/user_guide/indexing.html#returning-a-view-versus-a-copy\n",
      "  originalDataset['stops'] = originalDataset['stops'].replace([\"zero\", \"one\", \"two_or_more\"], [0, 1, 2])\n"
     ]
    }
   ],
   "source": [
    "#Aakash's code\n",
    "le = LabelEncoder()\n",
    "\n",
    "# Label encoding to ensure the dataset does not contain any string values\n",
    "originalDataset['airline'] = le.fit_transform(originalDataset['airline'])\n",
    "originalDataset['source_city'] = le.fit_transform(originalDataset['source_city'])\n",
    "originalDataset['departure_time'] = le.fit_transform(originalDataset['departure_time'])\n",
    "originalDataset['arrival_time'] = le.fit_transform(originalDataset['arrival_time'])\n",
    "originalDataset['destination_city'] = le.fit_transform(originalDataset['destination_city'])\n",
    "originalDataset['class'] = le.fit_transform(originalDataset['class'])\n",
    "\n",
    "# Find unique values within the stops column\n",
    "print(list(set(originalDataset['stops'])))\n",
    "\n",
    "# Match and replace the numerical values in text with integers\n",
    "originalDataset['stops'] = originalDataset['stops'].replace([\"zero\", \"one\", \"two_or_more\"], [0, 1, 2])\n",
    "\n",
    "print(originalDataset.head())"
   ]
  },
  {
   "cell_type": "code",
   "execution_count": 5,
   "id": "4d4b75a8",
   "metadata": {},
   "outputs": [],
   "source": [
    "result = []\n",
    "for x in originalDataset.columns:\n",
    "    if x != 'price':\n",
    "        result.append(x)\n",
    "        \n",
    "X = originalDataset[result].values\n",
    "y = originalDataset['price'].values\n",
    "\n",
    "model = LinearRegression()"
   ]
  },
  {
   "cell_type": "code",
   "execution_count": 6,
   "id": "d935e55a",
   "metadata": {},
   "outputs": [
    {
     "name": "stdout",
     "output_type": "stream",
     "text": [
      "Root Mean Squared Error: 62.62894794183298\n",
      "Fold #1, Training Size: 231377, Validation Size: 57845\n",
      "Root Mean Squared Error: 62.6955524367246\n",
      "Fold #2, Training Size: 231377, Validation Size: 57845\n",
      "Root Mean Squared Error: 62.81122043307166\n",
      "Fold #3, Training Size: 231378, Validation Size: 57844\n",
      "Root Mean Squared Error: 62.0884104325112\n",
      "Fold #4, Training Size: 231378, Validation Size: 57844\n",
      "Root Mean Squared Error: 62.6820081671752\n",
      "Fold #5, Training Size: 231378, Validation Size: 57844\n",
      "[ 7.05220578e+00  3.75111063e-01  6.31487578e-01  5.71382412e+01\n",
      "  7.64546510e-01  4.36466652e-01 -4.69234759e+02  1.07671273e+00\n",
      " -1.24471882e+00]\n"
     ]
    }
   ],
   "source": [
    "# Using 5 k-fold cross validation\n",
    "\n",
    "kf = KFold(5, shuffle = True, random_state = 44)\n",
    "\n",
    "fold = 1\n",
    "\n",
    "for train_index, validate_index in kf.split(X,y):\n",
    "    model.fit(X[train_index],y[train_index])\n",
    "    y_test = y[validate_index]\n",
    "    y_pred = model.predict(X[validate_index])\n",
    "    print('Root Mean Squared Error:', np.sqrt(metrics.mean_squared_error(y_test, y_pred)))\n",
    "    print(f\"Fold #{fold}, Training Size: {len(X[train_index])}, Validation Size: {len(X[validate_index])}\")\n",
    "    fold += 1\n",
    "    \n",
    "print(model.coef_)"
   ]
  },
  {
   "cell_type": "code",
   "execution_count": 7,
   "id": "e6a33a70",
   "metadata": {},
   "outputs": [
    {
     "data": {
      "text/plain": [
       "<AxesSubplot: title={'center': 'Linear Regression Model'}, xlabel='Actual', ylabel='Predicted'>"
      ]
     },
     "execution_count": 7,
     "metadata": {},
     "output_type": "execute_result"
    },
    {
     "data": {
      "image/png": "[encoded data removed]",
      "text/plain": [
       "<Figure size 432x288 with 1 Axes>"
      ]
     },
     "metadata": {
      "needs_background": "light"
     },
     "output_type": "display_data"
    }
   ],
   "source": [
    "# Regression plot\n",
    "\n",
    "plt.scatter(y_pred[:2000], y_test[:2000])\n",
    "plt.title (\"Linear Regression Model\")\n",
    "plt.xlabel('Actual')\n",
    "plt.ylabel('Predicted')\n",
    "sb.regplot(x = y_test, y = y_pred, scatter = False)"
   ]
  },
  {
   "cell_type": "code",
   "execution_count": 8,
   "id": "b7da808f",
   "metadata": {},
   "outputs": [
    {
     "name": "stdout",
     "output_type": "stream",
     "text": [
      "    Actual  Predicted\n",
      "0    27.25  28.122116\n",
      "1    66.09  76.493002\n",
      "2    33.99  22.599934\n",
      "3    33.99  23.813088\n",
      "4    33.99  80.054597\n",
      "5    33.99  22.427269\n",
      "6    33.99  20.227796\n",
      "7    39.26  83.588700\n",
      "8    33.99  84.981674\n",
      "9    33.99  84.260276\n",
      "10   27.25  29.366835\n",
      "11   65.33  74.621973\n",
      "12   65.33  73.584475\n",
      "13   89.22  83.819507\n",
      "14   27.25  41.695828\n",
      "15   33.99  23.671988\n",
      "16   33.15  88.216125\n",
      "17   33.15  20.637084\n",
      "18   33.15  28.834388\n",
      "19   27.25  26.522082\n",
      "20   49.49 -40.363001\n",
      "21   33.15  82.031860\n",
      "22   33.15  27.320491\n",
      "23   25.70  48.681096\n",
      "24   25.70  51.519213\n"
     ]
    }
   ],
   "source": [
    "originalDataset_compare = pd.DataFrame({'Actual': y_test, 'Predicted': y_pred})\n",
    "originalDataset_head = originalDataset_compare.head(25)\n",
    "\n",
    "print(originalDataset_head)"
   ]
  },
  {
   "cell_type": "code",
   "execution_count": 9,
   "id": "b0f2ae38",
   "metadata": {},
   "outputs": [
    {
     "name": "stdout",
     "output_type": "stream",
     "text": [
      "Mean: 209.5159385588825\n",
      "Coefficient of determination: 0.92\n",
      "Correlation:  (0.9610480004786195, 0.0)\n"
     ]
    }
   ],
   "source": [
    "print('Mean:', np.mean(y_test))\n",
    "print('Coefficient of determination: %.2f' % metrics.r2_score(y_test, y_pred))\n",
    "print('Correlation: ', stats.pearsonr(y_test,y_pred))"
   ]
  },
  {
   "cell_type": "code",
   "execution_count": null,
   "id": "0057a19e",
   "metadata": {},
   "outputs": [],
   "source": []
  }
 ],
 "metadata": {
  "kernelspec": {
   "display_name": "Python 3 (ipykernel)",
   "language": "python",
   "name": "python3"
  },
  "language_info": {
   "codemirror_mode": {
    "name": "ipython",
    "version": 3
   },
   "file_extension": ".py",
   "mimetype": "text/x-python",
   "name": "python",
   "nbconvert_exporter": "python",
   "pygments_lexer": "ipython3",
   "version": "3.9.12"
  }
 },
 "nbformat": 4,
 "nbformat_minor": 5
}
