{
 "cells": [
  {
   "cell_type": "code",
   "execution_count": 1,
   "id": "c91c8da7",
   "metadata": {},
   "outputs": [
    {
     "name": "stdout",
     "output_type": "stream",
     "text": [
      "        airline source_city departure_time        stops arrival_time  \\\n",
      "184894  AirAsia     Chennai          Night          one      Morning   \n",
      "186660  AirAsia     Chennai        Morning  two_or_more   Late_Night   \n",
      "186659  AirAsia     Chennai        Morning          one   Late_Night   \n",
      "186658  AirAsia     Chennai        Morning  two_or_more        Night   \n",
      "186657  AirAsia     Chennai        Morning          one        Night   \n",
      "...         ...         ...            ...          ...          ...   \n",
      "211524  Vistara       Delhi        Evening          one        Night   \n",
      "87243   Vistara   Bangalore        Evening          one   Late_Night   \n",
      "87244   Vistara   Bangalore        Morning          one    Afternoon   \n",
      "87482   Vistara   Bangalore        Morning          one      Evening   \n",
      "300152  Vistara     Chennai        Morning          one      Evening   \n",
      "\n",
      "       destination_city     class  duration  days_left   price  \n",
      "184894            Delhi   Economy     10.92         33   27.25  \n",
      "186660            Delhi   Economy     16.00         44   27.25  \n",
      "186659            Delhi   Economy     15.17         44   27.25  \n",
      "186658            Delhi   Economy     13.50         44   27.25  \n",
      "186657            Delhi   Economy     11.67         44   27.25  \n",
      "...                 ...       ...       ...        ...     ...  \n",
      "211524           Mumbai  Business      5.83         45  647.64  \n",
      "87243             Delhi   Economy      5.17         18   45.22  \n",
      "87244             Delhi   Economy      5.58         18   45.22  \n",
      "87482             Delhi   Economy      8.58         19   45.22  \n",
      "300152        Hyderabad  Business     10.08         49  897.44  \n",
      "\n",
      "[300153 rows x 10 columns]\n"
     ]
    },
    {
     "name": "stderr",
     "output_type": "stream",
     "text": [
      "<ipython-input-1-6eb732cbdb3c>:35: FutureWarning: In a future version of pandas all arguments of DataFrame.drop except for the argument 'labels' will be keyword-only.\n",
      "  df.drop('flight', 1, inplace=True)\n"
     ]
    }
   ],
   "source": [
    "import os\n",
    "import platform\n",
    "import numpy as np\n",
    "import pandas as pd\n",
    "import matplotlib.pyplot as plt\n",
    "import seaborn as sns\n",
    "from collections import Counter\n",
    "from sklearn.preprocessing import LabelEncoder\n",
    "from sklearn.preprocessing import StandardScaler\n",
    "from sklearn.linear_model import LinearRegression\n",
    "from sklearn.model_selection import train_test_split\n",
    "from sklearn.model_selection import KFold\n",
    "from sklearn.model_selection import GridSearchCV\n",
    "from sklearn import metrics\n",
    "from sklearn.metrics import mean_squared_error\n",
    "from math import sqrt\n",
    "from sklearn.svm import SVR\n",
    "\n",
    "#Faiza's code\n",
    "#Initial code cleanup\n",
    "filename_read = '/Users/valliramaswamy/Documents/MSci Data Science/Year-3/2IntrotoAI/group3CW/Clean_Dataset.csv'\n",
    "df =pd.read_csv(filename_read, index_col = 0)\n",
    "\n",
    "#Sorting values by airline\n",
    "df = df.sort_values(by='airline', ascending=True)\n",
    "\n",
    "#Checking overall and asking for sum of null values\n",
    "df.isnull().values.all().sum()\n",
    "\n",
    "# Dropping Flight column\n",
    "df.drop('flight', 1, inplace=True)\n",
    "\n",
    "# Changing price to Pounds\n",
    "df[\"price\"] = (df[\"price\"]*0.011).round(2)\n",
    "\n",
    "# Printinf dataset\n",
    "print(df)"
   ]
  },
  {
   "cell_type": "code",
   "execution_count": 2,
   "id": "926e3470",
   "metadata": {},
   "outputs": [
    {
     "data": {
      "image/png": "[encoded data removed]",
      "text/plain": [
       "<Figure size 432x288 with 1 Axes>"
      ]
     },
     "metadata": {
      "needs_background": "light"
     },
     "output_type": "display_data"
    },
    {
     "name": "stdout",
     "output_type": "stream",
     "text": [
      "229.78609928936243\n",
      "249.67505500334298\n",
      "Counter({0: 289222, 1: 10931})\n",
      "(289222, 11)\n"
     ]
    },
    {
     "name": "stderr",
     "output_type": "stream",
     "text": [
      "<ipython-input-2-e3c83bf4de1e>:26: FutureWarning: In a future version of pandas all arguments of DataFrame.drop except for the argument 'labels' will be keyword-only.\n",
      "  df.drop('price_outlier', 1, inplace=True)\n",
      "<ipython-input-2-e3c83bf4de1e>:26: SettingWithCopyWarning: \n",
      "A value is trying to be set on a copy of a slice from a DataFrame\n",
      "\n",
      "See the caveats in the documentation: https://pandas.pydata.org/pandas-docs/stable/user_guide/indexing.html#returning-a-view-versus-a-copy\n",
      "  df.drop('price_outlier', 1, inplace=True)\n"
     ]
    }
   ],
   "source": [
    "plt.boxplot(df['price'])\n",
    "plt.show()\n",
    "\n",
    "# Valli's code\n",
    "# Feature Engineering: removing outliers & adding new logged price column\n",
    "\n",
    "# Creates a new column in the dataframe named 'price outlier'\n",
    "df['price_outlier'] = 0\n",
    "\n",
    "#to find the mean and standard deviation of the price values to work out the outlier\n",
    "price_mean = np.mean(df['price'])\n",
    "print(price_mean)\n",
    "price_std = np.std(df['price'])\n",
    "print(price_std)\n",
    "\n",
    "#calculation to assign 0 or 1 to the price values (0 if the datapoint is not an outlier & 1 if it is)\n",
    "df.loc[abs(df['price'] - price_mean) > 2 * price_std,'price_outlier'] = 1\n",
    "\n",
    "#This counts the number of unique outlier values\n",
    "print(Counter(df['price_outlier']))\n",
    "\n",
    "df = df[df.price_outlier != 1]\n",
    "print (df.shape)\n",
    "\n",
    "# Dropping 'price outlier' column\n",
    "df.drop('price_outlier', 1, inplace=True)"
   ]
  },
  {
   "cell_type": "code",
   "execution_count": 3,
   "id": "28a526c6",
   "metadata": {},
   "outputs": [
    {
     "name": "stderr",
     "output_type": "stream",
     "text": [
      "<ipython-input-3-c4200ae9b491>:5: SettingWithCopyWarning: \n",
      "A value is trying to be set on a copy of a slice from a DataFrame.\n",
      "Try using .loc[row_indexer,col_indexer] = value instead\n",
      "\n",
      "See the caveats in the documentation: https://pandas.pydata.org/pandas-docs/stable/user_guide/indexing.html#returning-a-view-versus-a-copy\n",
      "  df['airline'] = le.fit_transform(df['airline'])\n",
      "<ipython-input-3-c4200ae9b491>:6: SettingWithCopyWarning: \n",
      "A value is trying to be set on a copy of a slice from a DataFrame.\n",
      "Try using .loc[row_indexer,col_indexer] = value instead\n",
      "\n",
      "See the caveats in the documentation: https://pandas.pydata.org/pandas-docs/stable/user_guide/indexing.html#returning-a-view-versus-a-copy\n",
      "  df['source_city'] = le.fit_transform(df['source_city'])\n",
      "<ipython-input-3-c4200ae9b491>:7: SettingWithCopyWarning: \n",
      "A value is trying to be set on a copy of a slice from a DataFrame.\n",
      "Try using .loc[row_indexer,col_indexer] = value instead\n",
      "\n",
      "See the caveats in the documentation: https://pandas.pydata.org/pandas-docs/stable/user_guide/indexing.html#returning-a-view-versus-a-copy\n",
      "  df['departure_time'] = le.fit_transform(df['departure_time'])\n",
      "<ipython-input-3-c4200ae9b491>:8: SettingWithCopyWarning: \n",
      "A value is trying to be set on a copy of a slice from a DataFrame.\n",
      "Try using .loc[row_indexer,col_indexer] = value instead\n",
      "\n",
      "See the caveats in the documentation: https://pandas.pydata.org/pandas-docs/stable/user_guide/indexing.html#returning-a-view-versus-a-copy\n",
      "  df['arrival_time'] = le.fit_transform(df['arrival_time'])\n",
      "<ipython-input-3-c4200ae9b491>:9: SettingWithCopyWarning: \n",
      "A value is trying to be set on a copy of a slice from a DataFrame.\n",
      "Try using .loc[row_indexer,col_indexer] = value instead\n",
      "\n",
      "See the caveats in the documentation: https://pandas.pydata.org/pandas-docs/stable/user_guide/indexing.html#returning-a-view-versus-a-copy\n",
      "  df['destination_city'] = le.fit_transform(df['destination_city'])\n"
     ]
    },
    {
     "name": "stdout",
     "output_type": "stream",
     "text": [
      "['zero', 'one', 'two_or_more']\n",
      "        airline  source_city  departure_time  stops  arrival_time  \\\n",
      "184894        0            1               5      1             4   \n",
      "186660        0            1               4      2             3   \n",
      "186659        0            1               4      1             3   \n",
      "186658        0            1               4      2             5   \n",
      "186657        0            1               4      1             5   \n",
      "...         ...          ...             ...    ...           ...   \n",
      "211525        5            2               2      1             5   \n",
      "211524        5            2               2      1             5   \n",
      "87243         5            0               2      1             3   \n",
      "87244         5            0               4      1             0   \n",
      "87482         5            0               4      1             2   \n",
      "\n",
      "        destination_city  class  duration  days_left   price  \n",
      "184894                 2      1     10.92         33   27.25  \n",
      "186660                 2      1     16.00         44   27.25  \n",
      "186659                 2      1     15.17         44   27.25  \n",
      "186658                 2      1     13.50         44   27.25  \n",
      "186657                 2      1     11.67         44   27.25  \n",
      "...                  ...    ...       ...        ...     ...  \n",
      "211525                 5      0      7.33         45  647.64  \n",
      "211524                 5      0      5.83         45  647.64  \n",
      "87243                  2      1      5.17         18   45.22  \n",
      "87244                  2      1      5.58         18   45.22  \n",
      "87482                  2      1      8.58         19   45.22  \n",
      "\n",
      "[289222 rows x 10 columns]\n"
     ]
    },
    {
     "name": "stderr",
     "output_type": "stream",
     "text": [
      "<ipython-input-3-c4200ae9b491>:10: SettingWithCopyWarning: \n",
      "A value is trying to be set on a copy of a slice from a DataFrame.\n",
      "Try using .loc[row_indexer,col_indexer] = value instead\n",
      "\n",
      "See the caveats in the documentation: https://pandas.pydata.org/pandas-docs/stable/user_guide/indexing.html#returning-a-view-versus-a-copy\n",
      "  df['class'] = le.fit_transform(df['class'])\n",
      "<ipython-input-3-c4200ae9b491>:16: SettingWithCopyWarning: \n",
      "A value is trying to be set on a copy of a slice from a DataFrame.\n",
      "Try using .loc[row_indexer,col_indexer] = value instead\n",
      "\n",
      "See the caveats in the documentation: https://pandas.pydata.org/pandas-docs/stable/user_guide/indexing.html#returning-a-view-versus-a-copy\n",
      "  df['stops'] = df['stops'].replace([\"zero\", \"one\", \"two_or_more\"], [0, 1, 2])\n"
     ]
    }
   ],
   "source": [
    "#Aakash's code\n",
    "\n",
    "le = LabelEncoder()\n",
    "\n",
    "df['airline'] = le.fit_transform(df['airline'])\n",
    "df['source_city'] = le.fit_transform(df['source_city'])\n",
    "df['departure_time'] = le.fit_transform(df['departure_time'])\n",
    "df['arrival_time'] = le.fit_transform(df['arrival_time'])\n",
    "df['destination_city'] = le.fit_transform(df['destination_city'])\n",
    "df['class'] = le.fit_transform(df['class'])\n",
    "\n",
    "# Find unique values within the stops column\n",
    "print(list(set(df['stops'])))\n",
    "\n",
    "# Match and replace the numerical values in text with integers\n",
    "df['stops'] = df['stops'].replace([\"zero\", \"one\", \"two_or_more\"], [0, 1, 2])\n",
    "\n",
    "print(df)"
   ]
  },
  {
   "cell_type": "code",
   "execution_count": null,
   "id": "2e08e6b9",
   "metadata": {},
   "outputs": [],
   "source": [
    "#X = df.iloc[:, [0, 8]].values.reshape(-1,1)\n",
    "#y = df.iloc[:, 9].values.reshape(-1,1)\n",
    "\n",
    "#sc_X = StandardScaler()\n",
    "#sc_y = StandardScaler()\n",
    "#X = sc_X.fit_transform(X)\n",
    "#y = sc_y.fit_transform(y)\n",
    "\n",
    "result = []\n",
    "for x in df.columns:\n",
    "    if x != 'price':\n",
    "        result.append(x)\n",
    "        \n",
    "X = df[result].values\n",
    "y = df['price'].values\n",
    "\n",
    "# Use 5-fold split with RBF kernal\n",
    "kf = KFold(5,shuffle=True)\n",
    "\n",
    "fold = 1\n",
    "\n",
    "for train_index, validate_index in kf.split(X,y):\n",
    "    svr_model = SVR(kernel = 'rbf', C=1)\n",
    "    svr_model.fit(X[train_index],y[train_index])\n",
    "    y_test = y[validate_index]\n",
    "    y_pred = svr_model.predict(X[validate_index])\n",
    "    print('Root Mean Squared Error:', np.sqrt(metrics.mean_squared_error(y_test, y_pred)))\n",
    "    print(f\"Fold #{fold}, Training Size: {len(X[train_index])}, Validation Size: {len(X[validate_index])}\")\n",
    "    \n",
    "    fold += 1"
   ]
  },
  {
   "cell_type": "code",
   "execution_count": null,
   "id": "c775cc3b",
   "metadata": {},
   "outputs": [],
   "source": [
    "X = df.iloc[:, [0, 8]].values.reshape(-1,1)\n",
    "y = df.iloc[:, 9].values.reshape(-1,1)\n",
    "\n",
    "sc_X = StandardScaler()\n",
    "sc_y = StandardScaler()\n",
    "X = sc_X.fit_transform(X)\n",
    "y = sc_y.fit_transform(y)\n",
    "\n",
    "scores = []\n",
    "best_svr = SVR(kernel='rbf')\n",
    "cv = KFold(n_splits=5, random_state=None, shuffle=False)\n",
    "for train_index, test_index in cv.split(X):\n",
    "    print(\"Train Index: \", train_index, \"\\n\")\n",
    "    print(\"Test Index: \", test_index)\n",
    "\n",
    "    X_train, X_test, y_train, y_test = X[train_index], X[test_index], y[train_index], y[test_index]\n",
    "    best_svr.fit(X_train, y_train)\n",
    "    scores.append(best_svr.score(X_test, y_test))\n",
    "    \n",
    "best_svr.fit(X_train, y_train)\n",
    "scores.append(best_svr.score(X_test, y_test))"
   ]
  },
  {
   "cell_type": "code",
   "execution_count": null,
   "id": "c4c9a7ed",
   "metadata": {},
   "outputs": [],
   "source": []
  }
 ],
 "metadata": {
  "kernelspec": {
   "display_name": "Python 3",
   "language": "python",
   "name": "python3"
  },
  "language_info": {
   "codemirror_mode": {
    "name": "ipython",
    "version": 3
   },
   "file_extension": ".py",
   "mimetype": "text/x-python",
   "name": "python",
   "nbconvert_exporter": "python",
   "pygments_lexer": "ipython3",
   "version": "3.8.8"
  }
 },
 "nbformat": 4,
 "nbformat_minor": 5
}
