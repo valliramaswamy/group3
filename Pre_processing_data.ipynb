{
 "cells": [
  {
   "cell_type": "code",
   "execution_count": 2,
   "id": "7c0948f0",
   "metadata": {},
   "outputs": [],
   "source": [
    "import os\n",
    "import platform"
   ]
  },
  {
   "cell_type": "code",
   "execution_count": 3,
   "id": "10e38a94",
   "metadata": {},
   "outputs": [],
   "source": [
    "filename_read = '/Users/Faiza/Clean_Dataset.csv'\n",
    "df =pd.read_csv(filename_read)"
   ]
  },
  {
   "cell_type": "code",
   "execution_count": 11,
   "id": "452fa6dd",
   "metadata": {},
   "outputs": [],
   "source": [
    "#Sorting values by airline\n",
    "\n",
    "df = df.sort_values(by='airline', ascending=True)"
   ]
  },
  {
   "cell_type": "code",
   "execution_count": 12,
   "id": "cbb59a1e",
   "metadata": {
    "collapsed": true
   },
   "outputs": [
    {
     "data": {
      "text/plain": [
       "0"
      ]
     },
     "execution_count": 12,
     "metadata": {},
     "output_type": "execute_result"
    }
   ],
   "source": [
    "#Checking for null values in airline\n",
    "df['airline'].isnull().sum()"
   ]
  },
  {
   "cell_type": "code",
   "execution_count": 17,
   "id": "ddb32dbe",
   "metadata": {
    "collapsed": true
   },
   "outputs": [
    {
     "data": {
      "text/plain": [
       "0"
      ]
     },
     "execution_count": 17,
     "metadata": {},
     "output_type": "execute_result"
    }
   ],
   "source": [
    "#Checking for null values in source city\n",
    "df['source_city'].isnull().sum()"
   ]
  },
  {
   "cell_type": "code",
   "execution_count": 18,
   "id": "bdd51aa0",
   "metadata": {
    "collapsed": true
   },
   "outputs": [
    {
     "data": {
      "text/plain": [
       "0"
      ]
     },
     "execution_count": 18,
     "metadata": {},
     "output_type": "execute_result"
    }
   ],
   "source": [
    "#Checking for null values in departure time\n",
    "df['departure_time'].isnull().sum()"
   ]
  },
  {
   "cell_type": "code",
   "execution_count": 26,
   "id": "3fbbf2c6",
   "metadata": {},
   "outputs": [
    {
     "data": {
      "text/plain": [
       "0"
      ]
     },
     "execution_count": 26,
     "metadata": {},
     "output_type": "execute_result"
    }
   ],
   "source": [
    "#Checking for null values in stops\n",
    "df['stops'].isnull().sum()"
   ]
  },
  {
   "cell_type": "code",
   "execution_count": 27,
   "id": "fca6cb3a",
   "metadata": {},
   "outputs": [
    {
     "data": {
      "text/plain": [
       "0"
      ]
     },
     "execution_count": 27,
     "metadata": {},
     "output_type": "execute_result"
    }
   ],
   "source": [
    "#Checking for null values in arrival_time\n",
    "df['arrival_time'].isnull().sum()"
   ]
  },
  {
   "cell_type": "code",
   "execution_count": 19,
   "id": "e6e588a4",
   "metadata": {
    "collapsed": true
   },
   "outputs": [
    {
     "data": {
      "text/plain": [
       "0"
      ]
     },
     "execution_count": 19,
     "metadata": {},
     "output_type": "execute_result"
    }
   ],
   "source": [
    "#Checking for null values in destination city\n",
    "df['destination_city'].isnull().sum()"
   ]
  },
  {
   "cell_type": "code",
   "execution_count": 20,
   "id": "449b8c06",
   "metadata": {
    "collapsed": true
   },
   "outputs": [
    {
     "data": {
      "text/plain": [
       "0"
      ]
     },
     "execution_count": 20,
     "metadata": {},
     "output_type": "execute_result"
    }
   ],
   "source": [
    "#Checking for null values in class\n",
    "df['class'].isnull().sum()"
   ]
  },
  {
   "cell_type": "code",
   "execution_count": 24,
   "id": "af792b05",
   "metadata": {
    "collapsed": true
   },
   "outputs": [
    {
     "data": {
      "text/plain": [
       "0"
      ]
     },
     "execution_count": 24,
     "metadata": {},
     "output_type": "execute_result"
    }
   ],
   "source": [
    "#Checking for null values in duration\n",
    "df['duration'].isnull().sum()"
   ]
  },
  {
   "cell_type": "code",
   "execution_count": 25,
   "id": "a3682021",
   "metadata": {
    "collapsed": true
   },
   "outputs": [
    {
     "data": {
      "text/plain": [
       "0"
      ]
     },
     "execution_count": 25,
     "metadata": {},
     "output_type": "execute_result"
    }
   ],
   "source": [
    "#Checking for null values in days left\n",
    "df['days_left'].isnull().sum()"
   ]
  },
  {
   "cell_type": "code",
   "execution_count": 22,
   "id": "85893760",
   "metadata": {
    "collapsed": true
   },
   "outputs": [
    {
     "data": {
      "text/plain": [
       "0"
      ]
     },
     "execution_count": 22,
     "metadata": {},
     "output_type": "execute_result"
    }
   ],
   "source": [
    "#Checking for null values in price\n",
    "df['price'].isnull().sum()"
   ]
  },
  {
   "cell_type": "code",
   "execution_count": 14,
   "id": "bc4f9da5",
   "metadata": {
    "collapsed": true
   },
   "outputs": [
    {
     "data": {
      "text/plain": [
       "0"
      ]
     },
     "execution_count": 14,
     "metadata": {},
     "output_type": "execute_result"
    }
   ],
   "source": [
    "#Checking overall and asking for sum of null values\n",
    "df.isnull().values.all().sum()"
   ]
  },
  {
   "cell_type": "code",
   "execution_count": 7,
   "id": "428a2638",
   "metadata": {
    "scrolled": false
   },
   "outputs": [
    {
     "name": "stderr",
     "output_type": "stream",
     "text": [
      "/var/folders/rb/3ckfjfm525j2f2s5dq_8x9t00000gp/T/ipykernel_13173/2845467333.py:3: FutureWarning: In a future version of pandas all arguments of DataFrame.drop except for the argument 'labels' will be keyword-only.\n",
      "  df.drop('flight', 1, inplace=True)\n"
     ]
    }
   ],
   "source": [
    "# Dropping Flight column\n",
    "df.drop('flight', 1, inplace=True)  "
   ]
  },
  {
   "cell_type": "code",
   "execution_count": 8,
   "id": "3ef52893",
   "metadata": {},
   "outputs": [],
   "source": [
    "# Changing price to Pounds\n",
    "df[\"price\"] = (df[\"price\"]*0.011).round(2)"
   ]
  },
  {
   "cell_type": "code",
   "execution_count": 9,
   "id": "37d4a8b2",
   "metadata": {},
   "outputs": [
    {
     "name": "stdout",
     "output_type": "stream",
     "text": [
      "        Unnamed: 0  airline source_city departure_time        stops  \\\n",
      "184894      184894  AirAsia     Chennai          Night          one   \n",
      "186660      186660  AirAsia     Chennai        Morning  two_or_more   \n",
      "186659      186659  AirAsia     Chennai        Morning          one   \n",
      "186658      186658  AirAsia     Chennai        Morning  two_or_more   \n",
      "186657      186657  AirAsia     Chennai        Morning          one   \n",
      "...            ...      ...         ...            ...          ...   \n",
      "211524      211524  Vistara       Delhi        Evening          one   \n",
      "87243        87243  Vistara   Bangalore        Evening          one   \n",
      "87244        87244  Vistara   Bangalore        Morning          one   \n",
      "87482        87482  Vistara   Bangalore        Morning          one   \n",
      "300152      300152  Vistara     Chennai        Morning          one   \n",
      "\n",
      "       arrival_time destination_city     class  duration  days_left   price  \n",
      "184894      Morning            Delhi   Economy     10.92         33   27.25  \n",
      "186660   Late_Night            Delhi   Economy     16.00         44   27.25  \n",
      "186659   Late_Night            Delhi   Economy     15.17         44   27.25  \n",
      "186658        Night            Delhi   Economy     13.50         44   27.25  \n",
      "186657        Night            Delhi   Economy     11.67         44   27.25  \n",
      "...             ...              ...       ...       ...        ...     ...  \n",
      "211524        Night           Mumbai  Business      5.83         45  647.64  \n",
      "87243    Late_Night            Delhi   Economy      5.17         18   45.22  \n",
      "87244     Afternoon            Delhi   Economy      5.58         18   45.22  \n",
      "87482       Evening            Delhi   Economy      8.58         19   45.22  \n",
      "300152      Evening        Hyderabad  Business     10.08         49  897.44  \n",
      "\n",
      "[300153 rows x 11 columns]\n"
     ]
    }
   ],
   "source": [
    "# Printinf dataset\n",
    "print(df)"
   ]
  }
 ],
 "metadata": {
  "kernelspec": {
   "display_name": "Python 3",
   "language": "python",
   "name": "python3"
  },
  "language_info": {
   "codemirror_mode": {
    "name": "ipython",
    "version": 3
   },
   "file_extension": ".py",
   "mimetype": "text/x-python",
   "name": "python",
   "nbconvert_exporter": "python",
   "pygments_lexer": "ipython3",
   "version": "3.8.8"
  }
 },
 "nbformat": 4,
 "nbformat_minor": 5
}
