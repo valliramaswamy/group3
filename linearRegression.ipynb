{
 "cells": [
  {
   "cell_type": "code",
   "execution_count": 13,
   "id": "011b1628",
   "metadata": {},
   "outputs": [
    {
     "name": "stdout",
     "output_type": "stream",
     "text": [
      "        airline source_city departure_time        stops arrival_time  \\\n",
      "184894  AirAsia     Chennai          Night          one      Morning   \n",
      "186660  AirAsia     Chennai        Morning  two_or_more   Late_Night   \n",
      "186659  AirAsia     Chennai        Morning          one   Late_Night   \n",
      "186658  AirAsia     Chennai        Morning  two_or_more        Night   \n",
      "186657  AirAsia     Chennai        Morning          one        Night   \n",
      "...         ...         ...            ...          ...          ...   \n",
      "211524  Vistara       Delhi        Evening          one        Night   \n",
      "87243   Vistara   Bangalore        Evening          one   Late_Night   \n",
      "87244   Vistara   Bangalore        Morning          one    Afternoon   \n",
      "87482   Vistara   Bangalore        Morning          one      Evening   \n",
      "300152  Vistara     Chennai        Morning          one      Evening   \n",
      "\n",
      "       destination_city     class  duration  days_left   price  \n",
      "184894            Delhi   Economy     10.92         33   27.25  \n",
      "186660            Delhi   Economy     16.00         44   27.25  \n",
      "186659            Delhi   Economy     15.17         44   27.25  \n",
      "186658            Delhi   Economy     13.50         44   27.25  \n",
      "186657            Delhi   Economy     11.67         44   27.25  \n",
      "...                 ...       ...       ...        ...     ...  \n",
      "211524           Mumbai  Business      5.83         45  647.64  \n",
      "87243             Delhi   Economy      5.17         18   45.22  \n",
      "87244             Delhi   Economy      5.58         18   45.22  \n",
      "87482             Delhi   Economy      8.58         19   45.22  \n",
      "300152        Hyderabad  Business     10.08         49  897.44  \n",
      "\n",
      "[300153 rows x 10 columns]\n"
     ]
    },
    {
     "name": "stderr",
     "output_type": "stream",
     "text": [
      "C:\\Users\\kinga\\AppData\\Local\\Temp\\ipykernel_3064\\3632104423.py:24: FutureWarning: In a future version of pandas all arguments of DataFrame.drop except for the argument 'labels' will be keyword-only.\n",
      "  originalDataset.drop('flight', 1, inplace = True)\n"
     ]
    }
   ],
   "source": [
    "import os\n",
    "import platform\n",
    "import numpy as np\n",
    "import pandas as pd\n",
    "import matplotlib.pyplot as plt\n",
    "import scipy.stats as stats\n",
    "import seaborn as sb\n",
    "\n",
    "from collections import Counter\n",
    "from sklearn.model_selection import train_test_split\n",
    "from sklearn.model_selection import KFold\n",
    "from sklearn.model_selection import cross_val_score\n",
    "from sklearn.linear_model import LinearRegression\n",
    "from sklearn.preprocessing import LabelEncoder\n",
    "from sklearn import metrics\n",
    "\n",
    "path = \".\"\n",
    "\n",
    "originalDatasetFile = os.path.join(path, \"Clean_Dataset.csv\")\n",
    "originalDataset = pd.read_csv(originalDatasetFile, index_col = 0)\n",
    "\n",
    "originalDataset = originalDataset.sort_values(by = 'airline', ascending = True)\n",
    "\n",
    "originalDataset.drop('flight', 1, inplace = True)\n",
    "\n",
    "originalDataset['price'] = (originalDataset[\"price\"]*0.011).round(2)\n",
    "\n",
    "print(originalDataset)"
   ]
  },
  {
   "cell_type": "code",
   "execution_count": 14,
   "id": "0148fe48",
   "metadata": {},
   "outputs": [
    {
     "data": {
      "image/png": "[encoded data removed]",
      "text/plain": [
       "<Figure size 432x288 with 1 Axes>"
      ]
     },
     "metadata": {
      "needs_background": "light"
     },
     "output_type": "display_data"
    },
    {
     "name": "stdout",
     "output_type": "stream",
     "text": [
      "airline             False\n",
      "source_city         False\n",
      "departure_time      False\n",
      "stops               False\n",
      "arrival_time        False\n",
      "destination_city    False\n",
      "class               False\n",
      "duration            False\n",
      "days_left           False\n",
      "price               False\n",
      "dtype: bool\n"
     ]
    }
   ],
   "source": [
    "#Valli's code - further cleanup of the data (feature engineering)\n",
    "\n",
    "plt.boxplot(originalDataset['price'])\n",
    "plt.show()\n",
    "\n",
    "print(originalDataset.isnull().any())"
   ]
  },
  {
   "cell_type": "code",
   "execution_count": 15,
   "id": "8349cc4d",
   "metadata": {},
   "outputs": [
    {
     "name": "stdout",
     "output_type": "stream",
     "text": [
      "229.78609928936243\n",
      "249.67505500334298\n",
      "Counter({0: 289222, 1: 10931})\n",
      "(289222, 11)\n"
     ]
    },
    {
     "name": "stderr",
     "output_type": "stream",
     "text": [
      "C:\\Users\\kinga\\AppData\\Local\\Temp\\ipykernel_3064\\3285291353.py:20: FutureWarning: In a future version of pandas all arguments of DataFrame.drop except for the argument 'labels' will be keyword-only.\n",
      "  originalDataset.drop('price_outlier', 1, inplace = True)\n",
      "C:\\Users\\kinga\\AppData\\Local\\Temp\\ipykernel_3064\\3285291353.py:20: SettingWithCopyWarning: \n",
      "A value is trying to be set on a copy of a slice from a DataFrame\n",
      "\n",
      "See the caveats in the documentation: https://pandas.pydata.org/pandas-docs/stable/user_guide/indexing.html#returning-a-view-versus-a-copy\n",
      "  originalDataset.drop('price_outlier', 1, inplace = True)\n"
     ]
    }
   ],
   "source": [
    "## Valli's code\n",
    "#creates a new column in the dataframe named 'price outlier'\n",
    "originalDataset['price_outlier'] = 0\n",
    "\n",
    "#to find the mean and standard deviation of the price values to work out the outlier\n",
    "price_mean = np.mean(originalDataset['price'])\n",
    "print(price_mean)\n",
    "price_std = np.std(originalDataset['price'])\n",
    "print(price_std)\n",
    "\n",
    "#calculation to assign 0 or 1 to the price values (0 if the datapoint is not an outlier & 1 if it is)\n",
    "originalDataset.loc[abs(originalDataset['price'] - price_mean) > 2 * price_std,'price_outlier'] = 1\n",
    "\n",
    "#This counts the number of unique outlier values\n",
    "print(Counter(originalDataset['price_outlier']))\n",
    "\n",
    "originalDataset = originalDataset[originalDataset.price_outlier != 1]\n",
    "print (originalDataset.shape)\n",
    "\n",
    "originalDataset.drop('price_outlier', 1, inplace = True)"
   ]
  },
  {
   "cell_type": "code",
   "execution_count": 16,
   "id": "c866df90",
   "metadata": {
    "scrolled": true
   },
   "outputs": [],
   "source": [
    "#Valli's code\n",
    "\n",
    "#originalDataset['log_price'] = np.log(originalDataset['price'])\n",
    "#print(originalDataset[:30])"
   ]
  },
  {
   "cell_type": "code",
   "execution_count": 17,
   "id": "c7e56f9e",
   "metadata": {},
   "outputs": [
    {
     "name": "stderr",
     "output_type": "stream",
     "text": [
      "C:\\Users\\kinga\\AppData\\Local\\Temp\\ipykernel_3064\\1254696033.py:3: SettingWithCopyWarning: \n",
      "A value is trying to be set on a copy of a slice from a DataFrame.\n",
      "Try using .loc[row_indexer,col_indexer] = value instead\n",
      "\n",
      "See the caveats in the documentation: https://pandas.pydata.org/pandas-docs/stable/user_guide/indexing.html#returning-a-view-versus-a-copy\n",
      "  originalDataset['airline'] = le.fit_transform(originalDataset['airline'])\n",
      "C:\\Users\\kinga\\AppData\\Local\\Temp\\ipykernel_3064\\1254696033.py:4: SettingWithCopyWarning: \n",
      "A value is trying to be set on a copy of a slice from a DataFrame.\n",
      "Try using .loc[row_indexer,col_indexer] = value instead\n",
      "\n",
      "See the caveats in the documentation: https://pandas.pydata.org/pandas-docs/stable/user_guide/indexing.html#returning-a-view-versus-a-copy\n",
      "  originalDataset['source_city'] = le.fit_transform(originalDataset['source_city'])\n",
      "C:\\Users\\kinga\\AppData\\Local\\Temp\\ipykernel_3064\\1254696033.py:5: SettingWithCopyWarning: \n",
      "A value is trying to be set on a copy of a slice from a DataFrame.\n",
      "Try using .loc[row_indexer,col_indexer] = value instead\n",
      "\n",
      "See the caveats in the documentation: https://pandas.pydata.org/pandas-docs/stable/user_guide/indexing.html#returning-a-view-versus-a-copy\n",
      "  originalDataset['departure_time'] = le.fit_transform(originalDataset['departure_time'])\n",
      "C:\\Users\\kinga\\AppData\\Local\\Temp\\ipykernel_3064\\1254696033.py:6: SettingWithCopyWarning: \n",
      "A value is trying to be set on a copy of a slice from a DataFrame.\n",
      "Try using .loc[row_indexer,col_indexer] = value instead\n",
      "\n",
      "See the caveats in the documentation: https://pandas.pydata.org/pandas-docs/stable/user_guide/indexing.html#returning-a-view-versus-a-copy\n",
      "  originalDataset['arrival_time'] = le.fit_transform(originalDataset['arrival_time'])\n",
      "C:\\Users\\kinga\\AppData\\Local\\Temp\\ipykernel_3064\\1254696033.py:7: SettingWithCopyWarning: \n",
      "A value is trying to be set on a copy of a slice from a DataFrame.\n",
      "Try using .loc[row_indexer,col_indexer] = value instead\n",
      "\n",
      "See the caveats in the documentation: https://pandas.pydata.org/pandas-docs/stable/user_guide/indexing.html#returning-a-view-versus-a-copy\n",
      "  originalDataset['destination_city'] = le.fit_transform(originalDataset['destination_city'])\n",
      "C:\\Users\\kinga\\AppData\\Local\\Temp\\ipykernel_3064\\1254696033.py:8: SettingWithCopyWarning: \n",
      "A value is trying to be set on a copy of a slice from a DataFrame.\n",
      "Try using .loc[row_indexer,col_indexer] = value instead\n",
      "\n",
      "See the caveats in the documentation: https://pandas.pydata.org/pandas-docs/stable/user_guide/indexing.html#returning-a-view-versus-a-copy\n",
      "  originalDataset['class'] = le.fit_transform(originalDataset['class'])\n"
     ]
    },
    {
     "name": "stdout",
     "output_type": "stream",
     "text": [
      "['one', 'two_or_more', 'zero']\n",
      "        airline  source_city  departure_time  stops  arrival_time  \\\n",
      "184894        0            1               5      1             4   \n",
      "186660        0            1               4      2             3   \n",
      "186659        0            1               4      1             3   \n",
      "186658        0            1               4      2             5   \n",
      "186657        0            1               4      1             5   \n",
      "\n",
      "        destination_city  class  duration  days_left  price  \n",
      "184894                 2      1     10.92         33  27.25  \n",
      "186660                 2      1     16.00         44  27.25  \n",
      "186659                 2      1     15.17         44  27.25  \n",
      "186658                 2      1     13.50         44  27.25  \n",
      "186657                 2      1     11.67         44  27.25  \n"
     ]
    },
    {
     "name": "stderr",
     "output_type": "stream",
     "text": [
      "C:\\Users\\kinga\\AppData\\Local\\Temp\\ipykernel_3064\\1254696033.py:14: SettingWithCopyWarning: \n",
      "A value is trying to be set on a copy of a slice from a DataFrame.\n",
      "Try using .loc[row_indexer,col_indexer] = value instead\n",
      "\n",
      "See the caveats in the documentation: https://pandas.pydata.org/pandas-docs/stable/user_guide/indexing.html#returning-a-view-versus-a-copy\n",
      "  originalDataset['stops'] = originalDataset['stops'].replace([\"zero\", \"one\", \"two_or_more\"], [0, 1, 2])\n"
     ]
    }
   ],
   "source": [
    "le = LabelEncoder()\n",
    "\n",
    "originalDataset['airline'] = le.fit_transform(originalDataset['airline'])\n",
    "originalDataset['source_city'] = le.fit_transform(originalDataset['source_city'])\n",
    "originalDataset['departure_time'] = le.fit_transform(originalDataset['departure_time'])\n",
    "originalDataset['arrival_time'] = le.fit_transform(originalDataset['arrival_time'])\n",
    "originalDataset['destination_city'] = le.fit_transform(originalDataset['destination_city'])\n",
    "originalDataset['class'] = le.fit_transform(originalDataset['class'])\n",
    "\n",
    "# Find unique values within the stops column\n",
    "print(list(set(originalDataset['stops'])))\n",
    "\n",
    "# Match and replace the numerical values in text with integers\n",
    "originalDataset['stops'] = originalDataset['stops'].replace([\"zero\", \"one\", \"two_or_more\"], [0, 1, 2])\n",
    "\n",
    "print(originalDataset.head())"
   ]
  },
  {
   "cell_type": "code",
   "execution_count": 18,
   "id": "4d4b75a8",
   "metadata": {},
   "outputs": [
    {
     "name": "stdout",
     "output_type": "stream",
     "text": [
      "[ 7.05048722e+00  3.54565303e-01  6.38033572e-01  5.69737664e+01\n",
      "  7.61626571e-01  4.26733503e-01 -4.69077279e+02  1.08261732e+00\n",
      " -1.23833400e+00]\n"
     ]
    }
   ],
   "source": [
    "result = []\n",
    "for x in originalDataset.columns:\n",
    "    if x != 'price' and x != 'price_outlier':\n",
    "        result.append(x)\n",
    "        \n",
    "X = originalDataset[result].values\n",
    "y = originalDataset['price'].values\n",
    "\n",
    "X_train, X_test, y_train, y_test = train_test_split(X, y, test_size = 0.20, random_state = 1)\n",
    "\n",
    "model = LinearRegression()\n",
    "\n",
    "model.fit(X_train, y_train)\n",
    "\n",
    "print(model.coef_)"
   ]
  },
  {
   "cell_type": "code",
   "execution_count": 19,
   "id": "d935e55a",
   "metadata": {},
   "outputs": [
    {
     "name": "stdout",
     "output_type": "stream",
     "text": [
      "    Actual   Predicted\n",
      "0   143.64  100.157186\n",
      "1    71.37  109.233463\n",
      "2   120.78   98.186607\n",
      "3   505.94  543.592932\n",
      "4    48.32   57.804842\n",
      "5   621.24  503.164738\n",
      "6    69.23   55.998882\n",
      "7    80.87   81.306119\n",
      "8   485.58  521.504751\n",
      "9    63.37   59.307949\n",
      "10   73.82   88.489200\n",
      "11  592.18  548.330595\n",
      "12   37.17   28.824443\n",
      "13   47.71   69.957093\n",
      "14   84.26   97.942754\n",
      "15  572.69  558.496124\n",
      "16  139.42   96.890153\n",
      "17   49.46   94.042410\n",
      "18  124.51  128.475105\n",
      "19   47.89   76.935547\n",
      "20   44.33   65.369377\n",
      "21  593.31  573.033759\n",
      "22  552.98  527.579812\n",
      "23   40.80   45.367090\n",
      "24  584.80  526.753205\n"
     ]
    }
   ],
   "source": [
    "y_pred = model.predict(X_test)\n",
    "\n",
    "originalDataset_compare = pd.DataFrame({'Actual': y_test, 'Predicted': y_pred})\n",
    "originalDataset_head = originalDataset_compare.head(25)\n",
    "\n",
    "print(originalDataset_head)"
   ]
  },
  {
   "cell_type": "code",
   "execution_count": 20,
   "id": "e6a33a70",
   "metadata": {},
   "outputs": [
    {
     "data": {
      "image/png": "[encoded data removed]",
      "text/plain": [
       "<Figure size 720x576 with 1 Axes>"
      ]
     },
     "metadata": {
      "needs_background": "light"
     },
     "output_type": "display_data"
    },
    {
     "name": "stdout",
     "output_type": "stream",
     "text": [
      "Mean: 206.79518592791078\n",
      "Root Mean Squared Error: 62.67153029465222\n",
      "Coefficient of determination: 0.92\n",
      "Correlation:  (0.9606787903928924, 0.0)\n"
     ]
    }
   ],
   "source": [
    "originalDataset_head.plot(kind = 'bar', figsize = (10,8))\n",
    "plt.grid(which='major', linestyle='-', linewidth='0.5', color='green')\n",
    "plt.grid(which='minor', linestyle=':', linewidth='0.5', color='black')\n",
    "plt.show()\n",
    "\n",
    "print('Mean:', np.mean(y_test))\n",
    "print('Root Mean Squared Error:', np.sqrt(metrics.mean_squared_error(y_test, y_pred)))\n",
    "\n",
    "print('Coefficient of determination: %.2f' % metrics.r2_score(y_test, y_pred))\n",
    "print('Correlation: ', stats.pearsonr(y_test,y_pred))"
   ]
  },
  {
   "cell_type": "code",
   "execution_count": 21,
   "id": "b7da808f",
   "metadata": {},
   "outputs": [
    {
     "data": {
      "image/png": "[encoded data removed]",
      "text/plain": [
       "<Figure size 432x288 with 1 Axes>"
      ]
     },
     "metadata": {
      "needs_background": "light"
     },
     "output_type": "display_data"
    }
   ],
   "source": [
    "def chart_regression(pred, y, sort=True):\n",
    "    t = pd.DataFrame({'pred': pred, 'y': y.flatten()})\n",
    "    if sort:\n",
    "        t.sort_values(by=['y'], inplace=True)\n",
    "    plt.plot(t['y'].tolist(), label='expected')\n",
    "    plt.plot(t['pred'].tolist(), label='prediction')\n",
    "    plt.ylabel('output')\n",
    "    plt.legend()\n",
    "    plt.show()\n",
    "    \n",
    "chart_regression(y_pred[:100].flatten(),y_test[:100],sort=True)"
   ]
  },
  {
   "cell_type": "code",
   "execution_count": 22,
   "id": "b0f2ae38",
   "metadata": {},
   "outputs": [
    {
     "data": {
      "text/plain": [
       "<AxesSubplot: >"
      ]
     },
     "execution_count": 22,
     "metadata": {},
     "output_type": "execute_result"
    },
    {
     "data": {
      "image/png": "[encoded data removed]",
      "text/plain": [
       "<Figure size 432x288 with 1 Axes>"
      ]
     },
     "metadata": {
      "needs_background": "light"
     },
     "output_type": "display_data"
    }
   ],
   "source": [
    "plt.scatter(y_pred[:100], y_test[:100])\n",
    "#plt.scatter(X_train, y_train)\n",
    "#plt.plot(X_test, y_pred)\n",
    "sb.regplot(x = y_test, y = y_pred, scatter = False)\n",
    "#plt.show()"
   ]
  },
  {
   "cell_type": "code",
   "execution_count": 23,
   "id": "1ce54ad2",
   "metadata": {},
   "outputs": [
    {
     "name": "stdout",
     "output_type": "stream",
     "text": [
      "Root Mean Squared Error: 62.302288014843626\n",
      "Fold #1, Training Size: 231377, Validation Size: 57845\n",
      "Root Mean Squared Error: 62.35164743828711\n",
      "Fold #2, Training Size: 231377, Validation Size: 57845\n",
      "Root Mean Squared Error: 62.817619410772664\n",
      "Fold #3, Training Size: 231378, Validation Size: 57844\n",
      "Root Mean Squared Error: 62.495771612613076\n",
      "Fold #4, Training Size: 231378, Validation Size: 57844\n",
      "Root Mean Squared Error: 62.94396300941553\n",
      "Fold #5, Training Size: 231378, Validation Size: 57844\n"
     ]
    }
   ],
   "source": [
    "kf = KFold(5,shuffle=True)\n",
    "\n",
    "fold = 1\n",
    "# The data is split five ways, for each fold, the \n",
    "# Perceptron is trained, tested and evaluated for accuracy\n",
    "for train_index, validate_index in kf.split(X,y):\n",
    "    model.fit(X[train_index],y[train_index])\n",
    "    y_test = y[validate_index]\n",
    "    y_pred = model.predict(X[validate_index])\n",
    "    #print(y_test)\n",
    "    #print(y_pred)\n",
    "    #print(f\"Fold #{fold}, Training Size: {len(trainDF)}, Validation Size: {len(validateDF)}\")\n",
    "    print('Root Mean Squared Error:', np.sqrt(metrics.mean_squared_error(y_test, y_pred)))\n",
    "    print(f\"Fold #{fold}, Training Size: {len(X[train_index])}, Validation Size: {len(X[validate_index])}\")\n",
    "    fold += 1"
   ]
  },
  {
   "cell_type": "code",
   "execution_count": 24,
   "id": "768c9bbb",
   "metadata": {},
   "outputs": [
    {
     "name": "stdout",
     "output_type": "stream",
     "text": [
      "Root Mean Squared Error: 62.872991150755254\n",
      "Fold #1, Training Size: 260299, Validation Size: 28923\n",
      "Root Mean Squared Error: 63.37631632116367\n",
      "Fold #2, Training Size: 260299, Validation Size: 28923\n",
      "Root Mean Squared Error: 62.55440053024022\n",
      "Fold #3, Training Size: 260300, Validation Size: 28922\n",
      "Root Mean Squared Error: 61.44804365117717\n",
      "Fold #4, Training Size: 260300, Validation Size: 28922\n",
      "Root Mean Squared Error: 62.27427522114202\n",
      "Fold #5, Training Size: 260300, Validation Size: 28922\n",
      "Root Mean Squared Error: 63.19726413844437\n",
      "Fold #6, Training Size: 260300, Validation Size: 28922\n",
      "Root Mean Squared Error: 62.707775567668435\n",
      "Fold #7, Training Size: 260300, Validation Size: 28922\n",
      "Root Mean Squared Error: 62.578417587043354\n",
      "Fold #8, Training Size: 260300, Validation Size: 28922\n",
      "Root Mean Squared Error: 62.1835752600759\n",
      "Fold #9, Training Size: 260300, Validation Size: 28922\n",
      "Root Mean Squared Error: 62.60693372818687\n",
      "Fold #10, Training Size: 260300, Validation Size: 28922\n"
     ]
    }
   ],
   "source": [
    "kf = KFold(10,shuffle=True)\n",
    "\n",
    "fold = 1\n",
    "# The data is split five ways, for each fold, the \n",
    "# Perceptron is trained, tested and evaluated for accuracy\n",
    "for train_index, validate_index in kf.split(X,y):\n",
    "    model.fit(X[train_index],y[train_index])\n",
    "    y_test = y[validate_index]\n",
    "    y_pred = model.predict(X[validate_index])\n",
    "    #print(y_test)\n",
    "    #print(y_pred)\n",
    "    #print(f\"Fold #{fold}, Training Size: {len(trainDF)}, Validation Size: {len(validateDF)}\")\n",
    "    print('Root Mean Squared Error:', np.sqrt(metrics.mean_squared_error(y_test, y_pred)))\n",
    "    print(f\"Fold #{fold}, Training Size: {len(X[train_index])}, Validation Size: {len(X[validate_index])}\")\n",
    "    fold += 1\n",
    "    \n",
    "## Add average of RMSE for report anaylis"
   ]
  },
  {
   "cell_type": "code",
   "execution_count": null,
   "id": "0057a19e",
   "metadata": {},
   "outputs": [],
   "source": []
  }
 ],
 "metadata": {
  "kernelspec": {
   "display_name": "Python 3 (ipykernel)",
   "language": "python",
   "name": "python3"
  },
  "language_info": {
   "codemirror_mode": {
    "name": "ipython",
    "version": 3
   },
   "file_extension": ".py",
   "mimetype": "text/x-python",
   "name": "python",
   "nbconvert_exporter": "python",
   "pygments_lexer": "ipython3",
   "version": "3.9.12"
  }
 },
 "nbformat": 4,
 "nbformat_minor": 5
}
