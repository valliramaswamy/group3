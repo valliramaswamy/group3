{
 "cells": [
  {
   "cell_type": "code",
   "execution_count": 335,
   "id": "eaa963d7",
   "metadata": {},
   "outputs": [
    {
     "name": "stdout",
     "output_type": "stream",
     "text": [
      "        Unnamed: 0   airline   flight source_city departure_time stops  \\\n",
      "0                0  SpiceJet  SG-8709       Delhi        Evening  zero   \n",
      "1                1  SpiceJet  SG-8157       Delhi  Early_Morning  zero   \n",
      "2                2   AirAsia   I5-764       Delhi  Early_Morning  zero   \n",
      "3                3   Vistara   UK-995       Delhi        Morning  zero   \n",
      "4                4   Vistara   UK-963       Delhi        Morning  zero   \n",
      "...            ...       ...      ...         ...            ...   ...   \n",
      "300148      300148   Vistara   UK-822     Chennai        Morning   one   \n",
      "300149      300149   Vistara   UK-826     Chennai      Afternoon   one   \n",
      "300150      300150   Vistara   UK-832     Chennai  Early_Morning   one   \n",
      "300151      300151   Vistara   UK-828     Chennai  Early_Morning   one   \n",
      "300152      300152   Vistara   UK-822     Chennai        Morning   one   \n",
      "\n",
      "         arrival_time destination_city     class  duration  days_left  price  \n",
      "0               Night           Mumbai   Economy      2.17          1   5953  \n",
      "1             Morning           Mumbai   Economy      2.33          1   5953  \n",
      "2       Early_Morning           Mumbai   Economy      2.17          1   5956  \n",
      "3           Afternoon           Mumbai   Economy      2.25          1   5955  \n",
      "4             Morning           Mumbai   Economy      2.33          1   5955  \n",
      "...               ...              ...       ...       ...        ...    ...  \n",
      "300148        Evening        Hyderabad  Business     10.08         49  69265  \n",
      "300149          Night        Hyderabad  Business     10.42         49  77105  \n",
      "300150          Night        Hyderabad  Business     13.83         49  79099  \n",
      "300151        Evening        Hyderabad  Business     10.00         49  81585  \n",
      "300152        Evening        Hyderabad  Business     10.08         49  81585  \n",
      "\n",
      "[300153 rows x 12 columns]\n"
     ]
    }
   ],
   "source": [
    "\n",
    "#Faiza's initial cleanup code implemented again\n",
    "import os\n",
    "import platform\n",
    "import pandas as pd\n",
    "import numpy as np\n",
    "import matplotlib.pyplot as plt\n",
    "import scipy.stats as stats\n",
    "from sklearn.metrics import ConfusionMatrixDisplay\n",
    "\n",
    "from sklearn.model_selection import train_test_split\n",
    "from collections import Counter\n",
    "from sklearn.tree import DecisionTreeRegressor\n",
    "from pathlib import Path\n",
    "from sklearn import datasets\n",
    "from sklearn.model_selection import KFold\n",
    "from sklearn.preprocessing import StandardScaler\n",
    "\n",
    "from sklearn.tree import DecisionTreeClassifier\n",
    "from sklearn.model_selection import train_test_split\n",
    "from sklearn.metrics import accuracy_score\n",
    "from sklearn.metrics import confusion_matrix\n",
    "import matplotlib.pyplot as plt\n",
    "from sklearn import datasets, linear_model\n",
    "import matplotlib.pyplot as plt\n",
    "from sklearn import metrics\n",
    "\n",
    "import matplotlib.pyplot as plt\n",
    "import numpy as np\n",
    "from sklearn.preprocessing import LabelEncoder\n",
    "import seaborn as sb\n",
    "from sklearn.linear_model import LinearRegression\n",
    "\n",
    "filename_read = '/Users/Faiza/Clean_Dataset.csv'\n",
    "df =pd.read_csv(filename_read)\n",
    "\n",
    "\n",
    "df.head()\n",
    "\n",
    "print(df)"
   ]
  },
  {
   "cell_type": "code",
   "execution_count": 336,
   "id": "58384e7d",
   "metadata": {},
   "outputs": [
    {
     "name": "stdout",
     "output_type": "stream",
     "text": [
      "        Unnamed: 0   airline source_city departure_time stops   arrival_time  \\\n",
      "0                0  SpiceJet       Delhi        Evening  zero          Night   \n",
      "1                1  SpiceJet       Delhi  Early_Morning  zero        Morning   \n",
      "2                2   AirAsia       Delhi  Early_Morning  zero  Early_Morning   \n",
      "3                3   Vistara       Delhi        Morning  zero      Afternoon   \n",
      "4                4   Vistara       Delhi        Morning  zero        Morning   \n",
      "...            ...       ...         ...            ...   ...            ...   \n",
      "300148      300148   Vistara     Chennai        Morning   one        Evening   \n",
      "300149      300149   Vistara     Chennai      Afternoon   one          Night   \n",
      "300150      300150   Vistara     Chennai  Early_Morning   one          Night   \n",
      "300151      300151   Vistara     Chennai  Early_Morning   one        Evening   \n",
      "300152      300152   Vistara     Chennai        Morning   one        Evening   \n",
      "\n",
      "       destination_city     class  duration  days_left   price  \n",
      "0                Mumbai   Economy      2.17          1   65.48  \n",
      "1                Mumbai   Economy      2.33          1   65.48  \n",
      "2                Mumbai   Economy      2.17          1   65.52  \n",
      "3                Mumbai   Economy      2.25          1   65.50  \n",
      "4                Mumbai   Economy      2.33          1   65.50  \n",
      "...                 ...       ...       ...        ...     ...  \n",
      "300148        Hyderabad  Business     10.08         49  761.92  \n",
      "300149        Hyderabad  Business     10.42         49  848.16  \n",
      "300150        Hyderabad  Business     13.83         49  870.09  \n",
      "300151        Hyderabad  Business     10.00         49  897.44  \n",
      "300152        Hyderabad  Business     10.08         49  897.44  \n",
      "\n",
      "[300153 rows x 11 columns]\n"
     ]
    },
    {
     "name": "stderr",
     "output_type": "stream",
     "text": [
      "/var/folders/rb/3ckfjfm525j2f2s5dq_8x9t00000gp/T/ipykernel_93215/496689744.py:35: FutureWarning: In a future version of pandas all arguments of DataFrame.drop except for the argument 'labels' will be keyword-only.\n",
      "  df.drop('flight', 1, inplace=True)\n"
     ]
    }
   ],
   "source": [
    "#Checking for null values in airline\n",
    "df['airline'].isnull().sum()\n",
    "\n",
    "#Checking for null values in source city\n",
    "df['source_city'].isnull().sum()\n",
    "\n",
    "#Checking for null values in departure time\n",
    "df['departure_time'].isnull().sum()\n",
    "\n",
    "#Checking for null values in stops\n",
    "df['stops'].isnull().sum()\n",
    "\n",
    "#Checking for null values in arrival_time\n",
    "df['arrival_time'].isnull().sum()\n",
    "\n",
    "#Checking for null values in destination city\n",
    "df['destination_city'].isnull().sum()\n",
    "\n",
    "#Checking for null values in class\n",
    "df['class'].isnull().sum()\n",
    "\n",
    "#Checking for null values in duration\n",
    "df['duration'].isnull().sum()\n",
    "\n",
    "#Checking for null values in days left\n",
    "df['days_left'].isnull().sum()\n",
    "\n",
    "#Checking for null values in price\n",
    "df['price'].isnull().sum()\n",
    "\n",
    "#Checking overall and asking for sum of null values\n",
    "df.isnull().values.all().sum()\n",
    "\n",
    "# Dropping Flight column\n",
    "df.drop('flight', 1, inplace=True)\n",
    "\n",
    "# Changing price to Pounds\n",
    "df[\"price\"] = (df[\"price\"]*0.011).round(2)\n",
    "\n",
    "# Printinf dataset\n",
    "print(df)\n"
   ]
  },
  {
   "cell_type": "code",
   "execution_count": 337,
   "id": "7ba27603",
   "metadata": {},
   "outputs": [
    {
     "data": {
      "image/png": "[encoded data removed]",
      "text/plain": [
       "<Figure size 432x288 with 1 Axes>"
      ]
     },
     "metadata": {
      "needs_background": "light"
     },
     "output_type": "display_data"
    },
    {
     "name": "stdout",
     "output_type": "stream",
     "text": [
      "Unnamed: 0          False\n",
      "airline             False\n",
      "source_city         False\n",
      "departure_time      False\n",
      "stops               False\n",
      "arrival_time        False\n",
      "destination_city    False\n",
      "class               False\n",
      "duration            False\n",
      "days_left           False\n",
      "price               False\n",
      "dtype: bool\n"
     ]
    }
   ],
   "source": [
    "#Valli's code - further cleanup of the data (feature engineering)\n",
    "\n",
    "plt.boxplot(df['price'])\n",
    "plt.show()\n",
    "\n",
    "print(df.isnull().any())"
   ]
  },
  {
   "cell_type": "code",
   "execution_count": 338,
   "id": "86f12aa2",
   "metadata": {},
   "outputs": [
    {
     "name": "stdout",
     "output_type": "stream",
     "text": [
      "229.7860992893624\n",
      "249.67505500334724\n",
      "Counter({0: 289222, 1: 10931})\n",
      "(289222, 12)\n"
     ]
    },
    {
     "name": "stderr",
     "output_type": "stream",
     "text": [
      "/var/folders/rb/3ckfjfm525j2f2s5dq_8x9t00000gp/T/ipykernel_93215/152457145.py:23: FutureWarning: In a future version of pandas all arguments of DataFrame.drop except for the argument 'labels' will be keyword-only.\n",
      "  df.drop('price_outlier', 1, inplace=True)\n",
      "/var/folders/rb/3ckfjfm525j2f2s5dq_8x9t00000gp/T/ipykernel_93215/152457145.py:23: SettingWithCopyWarning: \n",
      "A value is trying to be set on a copy of a slice from a DataFrame\n",
      "\n",
      "See the caveats in the documentation: https://pandas.pydata.org/pandas-docs/stable/user_guide/indexing.html#returning-a-view-versus-a-copy\n",
      "  df.drop('price_outlier', 1, inplace=True)\n"
     ]
    }
   ],
   "source": [
    "#creates a new column in the dataframe named 'price outlier'\n",
    "df['price_outlier'] = 0\n",
    "\n",
    "#to find the mean and standard deviation of the price values to work out the outlier\n",
    "price_mean = np.mean(df['price'])\n",
    "print(price_mean)\n",
    "price_std = np.std(df['price'])\n",
    "print(price_std)\n",
    "\n",
    "#calculation to assign 0 or 1 to the price values (0 if the datapoint is not an outlier & 1 if it is)\n",
    "df.loc[abs(df['price'] - price_mean) > 2 * price_std,'price_outlier'] = 1\n",
    "\n",
    "#This counts the number of unique outlier values\n",
    "print(Counter(df['price_outlier']))\n",
    "\n",
    "df = df[df.price_outlier != 1]\n",
    "print (df.shape)\n",
    "\n",
    "#Creating a new column logging the price column to be used in ML models\n",
    "\n",
    "#df['log_price'] = np.log(df['price'])\n",
    "\n",
    "df.drop('price_outlier', 1, inplace=True)\n"
   ]
  },
  {
   "cell_type": "code",
   "execution_count": 339,
   "id": "bc1ab30b",
   "metadata": {},
   "outputs": [
    {
     "name": "stderr",
     "output_type": "stream",
     "text": [
      "/var/folders/rb/3ckfjfm525j2f2s5dq_8x9t00000gp/T/ipykernel_93215/3278705563.py:2: SettingWithCopyWarning: \n",
      "A value is trying to be set on a copy of a slice from a DataFrame.\n",
      "Try using .loc[row_indexer,col_indexer] = value instead\n",
      "\n",
      "See the caveats in the documentation: https://pandas.pydata.org/pandas-docs/stable/user_guide/indexing.html#returning-a-view-versus-a-copy\n",
      "  df['airline'] = le.fit_transform(df['airline'])\n",
      "/var/folders/rb/3ckfjfm525j2f2s5dq_8x9t00000gp/T/ipykernel_93215/3278705563.py:3: SettingWithCopyWarning: \n",
      "A value is trying to be set on a copy of a slice from a DataFrame.\n",
      "Try using .loc[row_indexer,col_indexer] = value instead\n",
      "\n",
      "See the caveats in the documentation: https://pandas.pydata.org/pandas-docs/stable/user_guide/indexing.html#returning-a-view-versus-a-copy\n",
      "  df['source_city'] = le.fit_transform(df['source_city'])\n",
      "/var/folders/rb/3ckfjfm525j2f2s5dq_8x9t00000gp/T/ipykernel_93215/3278705563.py:4: SettingWithCopyWarning: \n",
      "A value is trying to be set on a copy of a slice from a DataFrame.\n",
      "Try using .loc[row_indexer,col_indexer] = value instead\n",
      "\n",
      "See the caveats in the documentation: https://pandas.pydata.org/pandas-docs/stable/user_guide/indexing.html#returning-a-view-versus-a-copy\n",
      "  df['departure_time'] = le.fit_transform(df['departure_time'])\n",
      "/var/folders/rb/3ckfjfm525j2f2s5dq_8x9t00000gp/T/ipykernel_93215/3278705563.py:5: SettingWithCopyWarning: \n",
      "A value is trying to be set on a copy of a slice from a DataFrame.\n",
      "Try using .loc[row_indexer,col_indexer] = value instead\n",
      "\n",
      "See the caveats in the documentation: https://pandas.pydata.org/pandas-docs/stable/user_guide/indexing.html#returning-a-view-versus-a-copy\n",
      "  df['arrival_time'] = le.fit_transform(df['arrival_time'])\n",
      "/var/folders/rb/3ckfjfm525j2f2s5dq_8x9t00000gp/T/ipykernel_93215/3278705563.py:6: SettingWithCopyWarning: \n",
      "A value is trying to be set on a copy of a slice from a DataFrame.\n",
      "Try using .loc[row_indexer,col_indexer] = value instead\n",
      "\n",
      "See the caveats in the documentation: https://pandas.pydata.org/pandas-docs/stable/user_guide/indexing.html#returning-a-view-versus-a-copy\n",
      "  df['destination_city'] = le.fit_transform(df['destination_city'])\n",
      "/var/folders/rb/3ckfjfm525j2f2s5dq_8x9t00000gp/T/ipykernel_93215/3278705563.py:7: SettingWithCopyWarning: \n",
      "A value is trying to be set on a copy of a slice from a DataFrame.\n",
      "Try using .loc[row_indexer,col_indexer] = value instead\n",
      "\n",
      "See the caveats in the documentation: https://pandas.pydata.org/pandas-docs/stable/user_guide/indexing.html#returning-a-view-versus-a-copy\n",
      "  df['class'] = le.fit_transform(df['class'])\n"
     ]
    },
    {
     "name": "stdout",
     "output_type": "stream",
     "text": [
      "['one', 'zero', 'two_or_more']\n",
      "   Unnamed: 0  airline  source_city  departure_time  stops  arrival_time  \\\n",
      "0           0        4            2               2      0             5   \n",
      "1           1        4            2               1      0             4   \n",
      "2           2        0            2               1      0             1   \n",
      "3           3        5            2               4      0             0   \n",
      "4           4        5            2               4      0             4   \n",
      "\n",
      "   destination_city  class  duration  days_left  price  \n",
      "0                 5      1      2.17          1  65.48  \n",
      "1                 5      1      2.33          1  65.48  \n",
      "2                 5      1      2.17          1  65.52  \n",
      "3                 5      1      2.25          1  65.50  \n",
      "4                 5      1      2.33          1  65.50  \n"
     ]
    },
    {
     "name": "stderr",
     "output_type": "stream",
     "text": [
      "/var/folders/rb/3ckfjfm525j2f2s5dq_8x9t00000gp/T/ipykernel_93215/3278705563.py:14: SettingWithCopyWarning: \n",
      "A value is trying to be set on a copy of a slice from a DataFrame.\n",
      "Try using .loc[row_indexer,col_indexer] = value instead\n",
      "\n",
      "See the caveats in the documentation: https://pandas.pydata.org/pandas-docs/stable/user_guide/indexing.html#returning-a-view-versus-a-copy\n",
      "  df['stops'] = df['stops'].replace([\"zero\", \"one\", \"two_or_more\"], [0, 1, 2])\n"
     ]
    }
   ],
   "source": [
    "\n",
    "le = LabelEncoder()\n",
    "df['airline'] = le.fit_transform(df['airline'])\n",
    "df['source_city'] = le.fit_transform(df['source_city'])\n",
    "df['departure_time'] = le.fit_transform(df['departure_time'])\n",
    "df['arrival_time'] = le.fit_transform(df['arrival_time'])\n",
    "df['destination_city'] = le.fit_transform(df['destination_city'])\n",
    "df['class'] = le.fit_transform(df['class'])\n",
    "\n",
    "\n",
    "# Find unique values within the stops column\n",
    "print(list(set(df['stops'])))\n",
    "\n",
    "# Match and replace the numerical values in text with integers\n",
    "df['stops'] = df['stops'].replace([\"zero\", \"one\", \"two_or_more\"], [0, 1, 2])\n",
    "\n",
    "print(df.head())"
   ]
  },
  {
   "cell_type": "code",
   "execution_count": 340,
   "id": "d95efcfc",
   "metadata": {
    "scrolled": false
   },
   "outputs": [
    {
     "name": "stdout",
     "output_type": "stream",
     "text": [
      "(202455, 10)\n",
      "(86767, 10)\n",
      "(202455,)\n",
      "(86767,)\n",
      "DecisionTreeRegressor(criterion='friedman_mse', splitter='random')\n"
     ]
    }
   ],
   "source": [
    "result = []\n",
    "\n",
    "for x in df.columns:\n",
    "    if x != 'price':\n",
    "        result.append(x)\n",
    "\n",
    "\n",
    "X = df[result].values        #by learning simple decision rules inferred from the data features (the X)\n",
    "y = df['price'].values    #target variable (our Y value)\n",
    "\n",
    "\n",
    "\n",
    "X_train, X_test, y_train, y_test = train_test_split(X, y, test_size=.3, random_state=2)\n",
    "\n",
    "\n",
    "print(X_train.shape)\n",
    "print(X_test.shape)\n",
    "print(y_train.shape)\n",
    "print(y_test.shape)\n",
    "\n",
    "decision_tree = DecisionTreeRegressor(criterion='friedman_mse',splitter='random')\n",
    "decision_tree.fit(X_train,y_train)\n",
    "print(decision_tree)\n",
    "\n"
   ]
  },
  {
   "cell_type": "code",
   "execution_count": 341,
   "id": "5b3ceff3",
   "metadata": {},
   "outputs": [
    {
     "data": {
      "text/html": [
       "<div>\n",
       "<style scoped>\n",
       "    .dataframe tbody tr th:only-of-type {\n",
       "        vertical-align: middle;\n",
       "    }\n",
       "\n",
       "    .dataframe tbody tr th {\n",
       "        vertical-align: top;\n",
       "    }\n",
       "\n",
       "    .dataframe thead th {\n",
       "        text-align: right;\n",
       "    }\n",
       "</style>\n",
       "<table border=\"1\" class=\"dataframe\">\n",
       "  <thead>\n",
       "    <tr style=\"text-align: right;\">\n",
       "      <th></th>\n",
       "      <th>Actual</th>\n",
       "      <th>Predicted</th>\n",
       "    </tr>\n",
       "  </thead>\n",
       "  <tbody>\n",
       "    <tr>\n",
       "      <th>0</th>\n",
       "      <td>56.99</td>\n",
       "      <td>44.42</td>\n",
       "    </tr>\n",
       "    <tr>\n",
       "      <th>1</th>\n",
       "      <td>497.83</td>\n",
       "      <td>497.83</td>\n",
       "    </tr>\n",
       "    <tr>\n",
       "      <th>2</th>\n",
       "      <td>22.55</td>\n",
       "      <td>37.28</td>\n",
       "    </tr>\n",
       "    <tr>\n",
       "      <th>3</th>\n",
       "      <td>71.52</td>\n",
       "      <td>71.52</td>\n",
       "    </tr>\n",
       "    <tr>\n",
       "      <th>4</th>\n",
       "      <td>664.36</td>\n",
       "      <td>664.36</td>\n",
       "    </tr>\n",
       "    <tr>\n",
       "      <th>5</th>\n",
       "      <td>79.74</td>\n",
       "      <td>79.74</td>\n",
       "    </tr>\n",
       "    <tr>\n",
       "      <th>6</th>\n",
       "      <td>22.55</td>\n",
       "      <td>22.55</td>\n",
       "    </tr>\n",
       "    <tr>\n",
       "      <th>7</th>\n",
       "      <td>665.59</td>\n",
       "      <td>665.59</td>\n",
       "    </tr>\n",
       "    <tr>\n",
       "      <th>8</th>\n",
       "      <td>52.76</td>\n",
       "      <td>52.76</td>\n",
       "    </tr>\n",
       "    <tr>\n",
       "      <th>9</th>\n",
       "      <td>351.80</td>\n",
       "      <td>351.80</td>\n",
       "    </tr>\n",
       "    <tr>\n",
       "      <th>10</th>\n",
       "      <td>705.90</td>\n",
       "      <td>705.90</td>\n",
       "    </tr>\n",
       "    <tr>\n",
       "      <th>11</th>\n",
       "      <td>121.76</td>\n",
       "      <td>129.61</td>\n",
       "    </tr>\n",
       "    <tr>\n",
       "      <th>12</th>\n",
       "      <td>80.15</td>\n",
       "      <td>88.65</td>\n",
       "    </tr>\n",
       "    <tr>\n",
       "      <th>13</th>\n",
       "      <td>665.59</td>\n",
       "      <td>665.59</td>\n",
       "    </tr>\n",
       "    <tr>\n",
       "      <th>14</th>\n",
       "      <td>623.72</td>\n",
       "      <td>623.72</td>\n",
       "    </tr>\n",
       "    <tr>\n",
       "      <th>15</th>\n",
       "      <td>49.57</td>\n",
       "      <td>67.46</td>\n",
       "    </tr>\n",
       "    <tr>\n",
       "      <th>16</th>\n",
       "      <td>153.42</td>\n",
       "      <td>126.27</td>\n",
       "    </tr>\n",
       "    <tr>\n",
       "      <th>17</th>\n",
       "      <td>564.79</td>\n",
       "      <td>564.79</td>\n",
       "    </tr>\n",
       "    <tr>\n",
       "      <th>18</th>\n",
       "      <td>56.96</td>\n",
       "      <td>56.96</td>\n",
       "    </tr>\n",
       "    <tr>\n",
       "      <th>19</th>\n",
       "      <td>713.14</td>\n",
       "      <td>713.14</td>\n",
       "    </tr>\n",
       "    <tr>\n",
       "      <th>20</th>\n",
       "      <td>662.86</td>\n",
       "      <td>662.86</td>\n",
       "    </tr>\n",
       "    <tr>\n",
       "      <th>21</th>\n",
       "      <td>603.25</td>\n",
       "      <td>603.25</td>\n",
       "    </tr>\n",
       "    <tr>\n",
       "      <th>22</th>\n",
       "      <td>541.28</td>\n",
       "      <td>541.28</td>\n",
       "    </tr>\n",
       "    <tr>\n",
       "      <th>23</th>\n",
       "      <td>49.46</td>\n",
       "      <td>49.46</td>\n",
       "    </tr>\n",
       "    <tr>\n",
       "      <th>24</th>\n",
       "      <td>71.04</td>\n",
       "      <td>66.10</td>\n",
       "    </tr>\n",
       "  </tbody>\n",
       "</table>\n",
       "</div>"
      ],
      "text/plain": [
       "    Actual  Predicted\n",
       "0    56.99      44.42\n",
       "1   497.83     497.83\n",
       "2    22.55      37.28\n",
       "3    71.52      71.52\n",
       "4   664.36     664.36\n",
       "5    79.74      79.74\n",
       "6    22.55      22.55\n",
       "7   665.59     665.59\n",
       "8    52.76      52.76\n",
       "9   351.80     351.80\n",
       "10  705.90     705.90\n",
       "11  121.76     129.61\n",
       "12   80.15      88.65\n",
       "13  665.59     665.59\n",
       "14  623.72     623.72\n",
       "15   49.57      67.46\n",
       "16  153.42     126.27\n",
       "17  564.79     564.79\n",
       "18   56.96      56.96\n",
       "19  713.14     713.14\n",
       "20  662.86     662.86\n",
       "21  603.25     603.25\n",
       "22  541.28     541.28\n",
       "23   49.46      49.46\n",
       "24   71.04      66.10"
      ]
     },
     "execution_count": 341,
     "metadata": {},
     "output_type": "execute_result"
    }
   ],
   "source": [
    "y_pred = decision_tree.predict(X_test)\n",
    "\n",
    "df_compare = pd.DataFrame({'Actual': y_test, 'Predicted': y_pred})\n",
    "df_compare.head(25)\n",
    "\n"
   ]
  },
  {
   "cell_type": "code",
   "execution_count": 342,
   "id": "34f6d8c6",
   "metadata": {},
   "outputs": [
    {
     "data": {
      "image/png": "[encoded data removed]",
      "text/plain": [
       "<Figure size 720x576 with 1 Axes>"
      ]
     },
     "metadata": {
      "needs_background": "light"
     },
     "output_type": "display_data"
    },
    {
     "name": "stdout",
     "output_type": "stream",
     "text": [
      "Mean: 207.13919381792616\n",
      "Root Mean Squared Error: 26.743940348885875\n"
     ]
    }
   ],
   "source": [
    "df_head.plot(kind = 'bar', figsize = (10,8))\n",
    "plt.grid(which='major', linestyle='-', linewidth='0.5', color='green')\n",
    "plt.grid(which='minor', linestyle=':', linewidth='0.5', color='black')\n",
    "plt.show()\n",
    "\n",
    "print('Mean:', np.mean(y_test))\n",
    "print('Root Mean Squared Error:', np.sqrt(metrics.mean_squared_error(y_test, y_pred)))"
   ]
  },
  {
   "cell_type": "code",
   "execution_count": 343,
   "id": "fc344bd8",
   "metadata": {},
   "outputs": [
    {
     "data": {
      "image/png": "[encoded data removed]",
      "text/plain": [
       "<Figure size 432x288 with 1 Axes>"
      ]
     },
     "metadata": {
      "needs_background": "light"
     },
     "output_type": "display_data"
    }
   ],
   "source": [
    "# Regression chart.\n",
    "def chart_regression(pred, y, sort=True):\n",
    "    t = pd.DataFrame({'pred': pred, 'y': y.flatten()})\n",
    "    if sort:\n",
    "        t.sort_values(by=['y'], inplace=True)\n",
    "    plt.plot(t['y'].tolist(), label='expected')\n",
    "    plt.plot(t['pred'].tolist(), label='prediction')\n",
    "    plt.ylabel('output')\n",
    "    plt.legend()\n",
    "    plt.show()\n",
    "    \n",
    "chart_regression(y_pred[:100].flatten(),y_test[:100],sort=True)  \n",
    "\n"
   ]
  },
  {
   "cell_type": "code",
   "execution_count": 344,
   "id": "c5b945cb",
   "metadata": {},
   "outputs": [
    {
     "data": {
      "image/png": "[encoded data removed]",
      "text/plain": [
       "<Figure size 432x288 with 1 Axes>"
      ]
     },
     "metadata": {
      "needs_background": "light"
     },
     "output_type": "display_data"
    }
   ],
   "source": [
    "plt.scatter(y_test[:100], y_pred[:100])\n",
    "#plt.plot(y_pred, y_test, color = 'green')\n",
    "\n",
    "\n",
    "sb.regplot(x= y_test, y= y_pred, scatter = False)\n",
    "\n",
    "plt.show()\n"
   ]
  },
  {
   "cell_type": "code",
   "execution_count": 345,
   "id": "90c87ddb",
   "metadata": {},
   "outputs": [
    {
     "name": "stdout",
     "output_type": "stream",
     "text": [
      "Root Mean Squared Error: 26.300520266216452\n",
      "Fold #1, Training Size: 231377, Validation Size: 57845\n",
      "Root Mean Squared Error: 25.899033614288243\n",
      "Fold #2, Training Size: 231377, Validation Size: 57845\n",
      "Root Mean Squared Error: 26.51543860945585\n",
      "Fold #3, Training Size: 231378, Validation Size: 57844\n",
      "Root Mean Squared Error: 26.151225158931236\n",
      "Fold #4, Training Size: 231378, Validation Size: 57844\n",
      "Root Mean Squared Error: 26.26021584313821\n",
      "Fold #5, Training Size: 231378, Validation Size: 57844\n"
     ]
    }
   ],
   "source": [
    "# Use 5-fold split\n",
    "kf = KFold(5,shuffle=True)\n",
    "\n",
    "fold = 1\n",
    "\n",
    "for train_index, validate_index in kf.split(X,y):\n",
    "    decision_tree.fit(X[train_index],y[train_index])\n",
    "    y_test = y[validate_index]\n",
    "    y_pred = decision_tree.predict(X[validate_index])\n",
    "    print('Root Mean Squared Error:', np.sqrt(metrics.mean_squared_error(y_test, y_pred)))\n",
    "    print(f\"Fold #{fold}, Training Size: {len(X[train_index])}, Validation Size: {len(X[validate_index])}\")\n",
    "    \n",
    "    fold += 1"
   ]
  },
  {
   "cell_type": "code",
   "execution_count": 346,
   "id": "b5a6ad08",
   "metadata": {},
   "outputs": [
    {
     "name": "stdout",
     "output_type": "stream",
     "text": [
      "Root Mean Squared Error: 25.591797229931704\n",
      "Fold #1, Training Size: 260299, Validation Size: 28923\n",
      "Root Mean Squared Error: 26.214552724313965\n",
      "Fold #2, Training Size: 260299, Validation Size: 28923\n",
      "Root Mean Squared Error: 25.230335003750817\n",
      "Fold #3, Training Size: 260300, Validation Size: 28922\n",
      "Root Mean Squared Error: 26.188201933510786\n",
      "Fold #4, Training Size: 260300, Validation Size: 28922\n",
      "Root Mean Squared Error: 25.972465812437964\n",
      "Fold #5, Training Size: 260300, Validation Size: 28922\n",
      "Root Mean Squared Error: 26.108335823401944\n",
      "Fold #6, Training Size: 260300, Validation Size: 28922\n",
      "Root Mean Squared Error: 24.892422315401603\n",
      "Fold #7, Training Size: 260300, Validation Size: 28922\n",
      "Root Mean Squared Error: 24.894754681097883\n",
      "Fold #8, Training Size: 260300, Validation Size: 28922\n",
      "Root Mean Squared Error: 25.208176875938815\n",
      "Fold #9, Training Size: 260300, Validation Size: 28922\n",
      "Root Mean Squared Error: 24.25617087314093\n",
      "Fold #10, Training Size: 260300, Validation Size: 28922\n"
     ]
    }
   ],
   "source": [
    "# Use 5-fold split\n",
    "kf = KFold(10,shuffle=True)\n",
    "\n",
    "fold = 1\n",
    "\n",
    "for train_index, validate_index in kf.split(X,y):\n",
    "    decision_tree.fit(X[train_index],y[train_index])\n",
    "    y_test = y[validate_index]\n",
    "    y_pred = decision_tree.predict(X[validate_index])\n",
    "    print('Root Mean Squared Error:', np.sqrt(metrics.mean_squared_error(y_test, y_pred)))\n",
    "    print(f\"Fold #{fold}, Training Size: {len(X[train_index])}, Validation Size: {len(X[validate_index])}\")\n",
    "    \n",
    "    fold += 1"
   ]
  },
  {
   "cell_type": "code",
   "execution_count": null,
   "id": "0f1ce8a6",
   "metadata": {},
   "outputs": [],
   "source": []
  }
 ],
 "metadata": {
  "kernelspec": {
   "display_name": "Python 3 (ipykernel)",
   "language": "python",
   "name": "python3"
  },
  "language_info": {
   "codemirror_mode": {
    "name": "ipython",
    "version": 3
   },
   "file_extension": ".py",
   "mimetype": "text/x-python",
   "name": "python",
   "nbconvert_exporter": "python",
   "pygments_lexer": "ipython3",
   "version": "3.9.12"
  }
 },
 "nbformat": 4,
 "nbformat_minor": 5
}
