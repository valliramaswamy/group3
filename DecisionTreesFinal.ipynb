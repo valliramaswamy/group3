{
 "cells": [
  {
   "cell_type": "code",
   "execution_count": 1,
   "id": "50a7e09b",
   "metadata": {},
   "outputs": [
    {
     "name": "stdout",
     "output_type": "stream",
     "text": [
      "        Unnamed: 0   airline   flight source_city departure_time stops  \\\n",
      "0                0  SpiceJet  SG-8709       Delhi        Evening  zero   \n",
      "1                1  SpiceJet  SG-8157       Delhi  Early_Morning  zero   \n",
      "2                2   AirAsia   I5-764       Delhi  Early_Morning  zero   \n",
      "3                3   Vistara   UK-995       Delhi        Morning  zero   \n",
      "4                4   Vistara   UK-963       Delhi        Morning  zero   \n",
      "...            ...       ...      ...         ...            ...   ...   \n",
      "300148      300148   Vistara   UK-822     Chennai        Morning   one   \n",
      "300149      300149   Vistara   UK-826     Chennai      Afternoon   one   \n",
      "300150      300150   Vistara   UK-832     Chennai  Early_Morning   one   \n",
      "300151      300151   Vistara   UK-828     Chennai  Early_Morning   one   \n",
      "300152      300152   Vistara   UK-822     Chennai        Morning   one   \n",
      "\n",
      "         arrival_time destination_city     class  duration  days_left  price  \n",
      "0               Night           Mumbai   Economy      2.17          1   5953  \n",
      "1             Morning           Mumbai   Economy      2.33          1   5953  \n",
      "2       Early_Morning           Mumbai   Economy      2.17          1   5956  \n",
      "3           Afternoon           Mumbai   Economy      2.25          1   5955  \n",
      "4             Morning           Mumbai   Economy      2.33          1   5955  \n",
      "...               ...              ...       ...       ...        ...    ...  \n",
      "300148        Evening        Hyderabad  Business     10.08         49  69265  \n",
      "300149          Night        Hyderabad  Business     10.42         49  77105  \n",
      "300150          Night        Hyderabad  Business     13.83         49  79099  \n",
      "300151        Evening        Hyderabad  Business     10.00         49  81585  \n",
      "300152        Evening        Hyderabad  Business     10.08         49  81585  \n",
      "\n",
      "[300153 rows x 12 columns]\n"
     ]
    }
   ],
   "source": [
    "\n",
    "#Faiza's initial cleanup code implemented again\n",
    "import os\n",
    "import platform\n",
    "import pandas as pd\n",
    "import numpy as np\n",
    "import matplotlib.pyplot as plt\n",
    "import scipy.stats as stats\n",
    "from sklearn.tree import DecisionTreeRegressor\n",
    "from pathlib import Path\n",
    "from sklearn import datasets\n",
    "from sklearn.model_selection import KFold\n",
    "from sklearn.preprocessing import StandardScaler\n",
    "from sklearn.model_selection import train_test_split\n",
    "#from sklearn.metrics import accuracy_score\n",
    "from sklearn.metrics import confusion_matrix\n",
    "from sklearn import datasets, linear_model,metrics\n",
    "#from sklearn import metrics\n",
    "from sklearn.preprocessing import LabelEncoder\n",
    "import seaborn as sb\n",
    "from sklearn.linear_model import LinearRegression, Ridge,Lasso\n",
    "from collections import Counter\n",
    "\n",
    "\n",
    "\n",
    "filename_read = '/Users/Faiza/Clean_Dataset.csv'\n",
    "df =pd.read_csv(filename_read)\n",
    "\n",
    "\n",
    "df.head()\n",
    "\n",
    "print(df)"
   ]
  },
  {
   "cell_type": "code",
   "execution_count": 2,
   "id": "daf8c991",
   "metadata": {},
   "outputs": [
    {
     "name": "stdout",
     "output_type": "stream",
     "text": [
      "        Unnamed: 0   airline source_city departure_time stops   arrival_time  \\\n",
      "0                0  SpiceJet       Delhi        Evening  zero          Night   \n",
      "1                1  SpiceJet       Delhi  Early_Morning  zero        Morning   \n",
      "2                2   AirAsia       Delhi  Early_Morning  zero  Early_Morning   \n",
      "3                3   Vistara       Delhi        Morning  zero      Afternoon   \n",
      "4                4   Vistara       Delhi        Morning  zero        Morning   \n",
      "...            ...       ...         ...            ...   ...            ...   \n",
      "300148      300148   Vistara     Chennai        Morning   one        Evening   \n",
      "300149      300149   Vistara     Chennai      Afternoon   one          Night   \n",
      "300150      300150   Vistara     Chennai  Early_Morning   one          Night   \n",
      "300151      300151   Vistara     Chennai  Early_Morning   one        Evening   \n",
      "300152      300152   Vistara     Chennai        Morning   one        Evening   \n",
      "\n",
      "       destination_city     class  duration  days_left   price  \n",
      "0                Mumbai   Economy      2.17          1   65.48  \n",
      "1                Mumbai   Economy      2.33          1   65.48  \n",
      "2                Mumbai   Economy      2.17          1   65.52  \n",
      "3                Mumbai   Economy      2.25          1   65.50  \n",
      "4                Mumbai   Economy      2.33          1   65.50  \n",
      "...                 ...       ...       ...        ...     ...  \n",
      "300148        Hyderabad  Business     10.08         49  761.92  \n",
      "300149        Hyderabad  Business     10.42         49  848.16  \n",
      "300150        Hyderabad  Business     13.83         49  870.09  \n",
      "300151        Hyderabad  Business     10.00         49  897.44  \n",
      "300152        Hyderabad  Business     10.08         49  897.44  \n",
      "\n",
      "[300153 rows x 11 columns]\n"
     ]
    },
    {
     "name": "stderr",
     "output_type": "stream",
     "text": [
      "/var/folders/rb/3ckfjfm525j2f2s5dq_8x9t00000gp/T/ipykernel_94995/1042567019.py:36: FutureWarning: In a future version of pandas all arguments of DataFrame.drop except for the argument 'labels' will be keyword-only.\n",
      "  df.drop('flight', 1, inplace=True)\n"
     ]
    }
   ],
   "source": [
    "#Checking for null values in airline\n",
    "df['airline'].isnull().sum()\n",
    "\n",
    "#Checking for null values in source city\n",
    "df['source_city'].isnull().sum()\n",
    "\n",
    "#Checking for null values in departure time\n",
    "df['departure_time'].isnull().sum()\n",
    "\n",
    "#Checking for null values in stops\n",
    "df['stops'].isnull().sum()\n",
    "\n",
    "#Checking for null values in arrival_time\n",
    "df['arrival_time'].isnull().sum()\n",
    "\n",
    "#Checking for null values in destination city\n",
    "df['destination_city'].isnull().sum()\n",
    "\n",
    "#Checking for null values in class\n",
    "df['class'].isnull().sum()\n",
    "\n",
    "#Checking for null values in duration\n",
    "df['duration'].isnull().sum()\n",
    "\n",
    "#Checking for null values in days left\n",
    "df['days_left'].isnull().sum()\n",
    "\n",
    "#Checking for null values in price\n",
    "df['price'].isnull().sum()\n",
    "\n",
    "#Checking overall and asking for sum of null values\n",
    "df.isnull().values.all().sum()\n",
    "\n",
    "\n",
    "# Dropping Flight column\n",
    "df.drop('flight', 1, inplace=True)\n",
    "\n",
    "# Changing price to Pounds\n",
    "df[\"price\"] = (df[\"price\"]*0.011).round(2)\n",
    "\n",
    "# Printinf dataset\n",
    "print(df)\n",
    "\n"
   ]
  },
  {
   "cell_type": "code",
   "execution_count": 3,
   "id": "be97701a",
   "metadata": {},
   "outputs": [
    {
     "data": {
      "image/png": "[encoded data removed]",
      "text/plain": [
       "<Figure size 432x288 with 1 Axes>"
      ]
     },
     "metadata": {
      "needs_background": "light"
     },
     "output_type": "display_data"
    },
    {
     "name": "stdout",
     "output_type": "stream",
     "text": [
      "Unnamed: 0          False\n",
      "airline             False\n",
      "source_city         False\n",
      "departure_time      False\n",
      "stops               False\n",
      "arrival_time        False\n",
      "destination_city    False\n",
      "class               False\n",
      "duration            False\n",
      "days_left           False\n",
      "price               False\n",
      "dtype: bool\n"
     ]
    }
   ],
   "source": [
    "#Valli's code - further cleanup of the data (feature engineering)\n",
    "\n",
    "plt.boxplot(df['price'])\n",
    "plt.show()\n",
    "\n",
    "print(df.isnull().any())"
   ]
  },
  {
   "cell_type": "code",
   "execution_count": 4,
   "id": "89200600",
   "metadata": {},
   "outputs": [
    {
     "name": "stdout",
     "output_type": "stream",
     "text": [
      "229.7860992893624\n",
      "249.67505500334724\n",
      "Counter({0: 289222, 1: 10931})\n",
      "(289222, 12)\n"
     ]
    },
    {
     "name": "stderr",
     "output_type": "stream",
     "text": [
      "/var/folders/rb/3ckfjfm525j2f2s5dq_8x9t00000gp/T/ipykernel_94995/1501967009.py:23: FutureWarning: In a future version of pandas all arguments of DataFrame.drop except for the argument 'labels' will be keyword-only.\n",
      "  df.drop('price_outlier', 1, inplace=True)\n",
      "/var/folders/rb/3ckfjfm525j2f2s5dq_8x9t00000gp/T/ipykernel_94995/1501967009.py:23: SettingWithCopyWarning: \n",
      "A value is trying to be set on a copy of a slice from a DataFrame\n",
      "\n",
      "See the caveats in the documentation: https://pandas.pydata.org/pandas-docs/stable/user_guide/indexing.html#returning-a-view-versus-a-copy\n",
      "  df.drop('price_outlier', 1, inplace=True)\n"
     ]
    }
   ],
   "source": [
    "#creates a new column in the dataframe named 'price outlier'\n",
    "df['price_outlier'] = 0\n",
    "\n",
    "#to find the mean and standard deviation of the price values to work out the outlier\n",
    "price_mean = np.mean(df['price'])\n",
    "print(price_mean)\n",
    "price_std = np.std(df['price'])\n",
    "print(price_std)\n",
    "\n",
    "#calculation to assign 0 or 1 to the price values (0 if the datapoint is not an outlier & 1 if it is)\n",
    "df.loc[abs(df['price'] - price_mean) > 2 * price_std,'price_outlier'] = 1\n",
    "\n",
    "#This counts the number of unique outlier values\n",
    "print(Counter(df['price_outlier']))\n",
    "\n",
    "df = df[df.price_outlier != 1]\n",
    "print (df.shape)\n",
    "\n",
    "#Creating a new column logging the price column to be used in ML models\n",
    "\n",
    "#df['log_price'] = np.log(df['price'])\n",
    "\n",
    "df.drop('price_outlier', 1, inplace=True)\n",
    "\n"
   ]
  },
  {
   "cell_type": "code",
   "execution_count": 5,
   "id": "89275611",
   "metadata": {},
   "outputs": [
    {
     "name": "stderr",
     "output_type": "stream",
     "text": [
      "/var/folders/rb/3ckfjfm525j2f2s5dq_8x9t00000gp/T/ipykernel_94995/3278705563.py:2: SettingWithCopyWarning: \n",
      "A value is trying to be set on a copy of a slice from a DataFrame.\n",
      "Try using .loc[row_indexer,col_indexer] = value instead\n",
      "\n",
      "See the caveats in the documentation: https://pandas.pydata.org/pandas-docs/stable/user_guide/indexing.html#returning-a-view-versus-a-copy\n",
      "  df['airline'] = le.fit_transform(df['airline'])\n",
      "/var/folders/rb/3ckfjfm525j2f2s5dq_8x9t00000gp/T/ipykernel_94995/3278705563.py:3: SettingWithCopyWarning: \n",
      "A value is trying to be set on a copy of a slice from a DataFrame.\n",
      "Try using .loc[row_indexer,col_indexer] = value instead\n",
      "\n",
      "See the caveats in the documentation: https://pandas.pydata.org/pandas-docs/stable/user_guide/indexing.html#returning-a-view-versus-a-copy\n",
      "  df['source_city'] = le.fit_transform(df['source_city'])\n",
      "/var/folders/rb/3ckfjfm525j2f2s5dq_8x9t00000gp/T/ipykernel_94995/3278705563.py:4: SettingWithCopyWarning: \n",
      "A value is trying to be set on a copy of a slice from a DataFrame.\n",
      "Try using .loc[row_indexer,col_indexer] = value instead\n",
      "\n",
      "See the caveats in the documentation: https://pandas.pydata.org/pandas-docs/stable/user_guide/indexing.html#returning-a-view-versus-a-copy\n",
      "  df['departure_time'] = le.fit_transform(df['departure_time'])\n",
      "/var/folders/rb/3ckfjfm525j2f2s5dq_8x9t00000gp/T/ipykernel_94995/3278705563.py:5: SettingWithCopyWarning: \n",
      "A value is trying to be set on a copy of a slice from a DataFrame.\n",
      "Try using .loc[row_indexer,col_indexer] = value instead\n",
      "\n",
      "See the caveats in the documentation: https://pandas.pydata.org/pandas-docs/stable/user_guide/indexing.html#returning-a-view-versus-a-copy\n",
      "  df['arrival_time'] = le.fit_transform(df['arrival_time'])\n",
      "/var/folders/rb/3ckfjfm525j2f2s5dq_8x9t00000gp/T/ipykernel_94995/3278705563.py:6: SettingWithCopyWarning: \n",
      "A value is trying to be set on a copy of a slice from a DataFrame.\n",
      "Try using .loc[row_indexer,col_indexer] = value instead\n",
      "\n",
      "See the caveats in the documentation: https://pandas.pydata.org/pandas-docs/stable/user_guide/indexing.html#returning-a-view-versus-a-copy\n",
      "  df['destination_city'] = le.fit_transform(df['destination_city'])\n",
      "/var/folders/rb/3ckfjfm525j2f2s5dq_8x9t00000gp/T/ipykernel_94995/3278705563.py:7: SettingWithCopyWarning: \n",
      "A value is trying to be set on a copy of a slice from a DataFrame.\n",
      "Try using .loc[row_indexer,col_indexer] = value instead\n",
      "\n",
      "See the caveats in the documentation: https://pandas.pydata.org/pandas-docs/stable/user_guide/indexing.html#returning-a-view-versus-a-copy\n",
      "  df['class'] = le.fit_transform(df['class'])\n"
     ]
    },
    {
     "name": "stdout",
     "output_type": "stream",
     "text": [
      "['two_or_more', 'one', 'zero']\n",
      "   Unnamed: 0  airline  source_city  departure_time  stops  arrival_time  \\\n",
      "0           0        4            2               2      0             5   \n",
      "1           1        4            2               1      0             4   \n",
      "2           2        0            2               1      0             1   \n",
      "3           3        5            2               4      0             0   \n",
      "4           4        5            2               4      0             4   \n",
      "\n",
      "   destination_city  class  duration  days_left  price  \n",
      "0                 5      1      2.17          1  65.48  \n",
      "1                 5      1      2.33          1  65.48  \n",
      "2                 5      1      2.17          1  65.52  \n",
      "3                 5      1      2.25          1  65.50  \n",
      "4                 5      1      2.33          1  65.50  \n"
     ]
    },
    {
     "name": "stderr",
     "output_type": "stream",
     "text": [
      "/var/folders/rb/3ckfjfm525j2f2s5dq_8x9t00000gp/T/ipykernel_94995/3278705563.py:14: SettingWithCopyWarning: \n",
      "A value is trying to be set on a copy of a slice from a DataFrame.\n",
      "Try using .loc[row_indexer,col_indexer] = value instead\n",
      "\n",
      "See the caveats in the documentation: https://pandas.pydata.org/pandas-docs/stable/user_guide/indexing.html#returning-a-view-versus-a-copy\n",
      "  df['stops'] = df['stops'].replace([\"zero\", \"one\", \"two_or_more\"], [0, 1, 2])\n"
     ]
    }
   ],
   "source": [
    "\n",
    "le = LabelEncoder()\n",
    "df['airline'] = le.fit_transform(df['airline'])\n",
    "df['source_city'] = le.fit_transform(df['source_city'])\n",
    "df['departure_time'] = le.fit_transform(df['departure_time'])\n",
    "df['arrival_time'] = le.fit_transform(df['arrival_time'])\n",
    "df['destination_city'] = le.fit_transform(df['destination_city'])\n",
    "df['class'] = le.fit_transform(df['class'])\n",
    "\n",
    "\n",
    "# Find unique values within the stops column\n",
    "print(list(set(df['stops'])))\n",
    "\n",
    "# Match and replace the numerical values in text with integers\n",
    "df['stops'] = df['stops'].replace([\"zero\", \"one\", \"two_or_more\"], [0, 1, 2])\n",
    "\n",
    "print(df.head())"
   ]
  },
  {
   "cell_type": "code",
   "execution_count": 6,
   "id": "be105af4",
   "metadata": {},
   "outputs": [],
   "source": [
    "result = []\n",
    "\n",
    "for x in df.columns:\n",
    "    if x != 'price':\n",
    "        result.append(x)\n",
    "\n",
    "\n",
    "X = df[result].values        #by learning simple decision rules inferred from the data features (the X)\n",
    "y = df['price'].values    #target variable (our Y value)\n",
    "\n",
    "decision_tree = DecisionTreeRegressor(criterion='friedman_mse',splitter='random')"
   ]
  },
  {
   "cell_type": "code",
   "execution_count": 7,
   "id": "24fc64dd",
   "metadata": {},
   "outputs": [
    {
     "name": "stdout",
     "output_type": "stream",
     "text": [
      "Root Mean Squared Error: 25.76692869026377\n",
      "Fold #1, Training Size: 231377, Validation Size: 57845\n",
      "Root Mean Squared Error: 26.14209031958079\n",
      "Fold #2, Training Size: 231377, Validation Size: 57845\n",
      "Root Mean Squared Error: 26.013457942188698\n",
      "Fold #3, Training Size: 231378, Validation Size: 57844\n",
      "Root Mean Squared Error: 26.153068165235066\n",
      "Fold #4, Training Size: 231378, Validation Size: 57844\n",
      "Root Mean Squared Error: 26.215208570342465\n",
      "Fold #5, Training Size: 231378, Validation Size: 57844\n"
     ]
    }
   ],
   "source": [
    "# Use 5-fold split\n",
    "kf = KFold(5,shuffle=True)\n",
    "\n",
    "fold = 1\n",
    "\n",
    "for train_index, validate_index in kf.split(X,y):\n",
    "    decision_tree.fit(X[train_index],y[train_index])\n",
    "    y_test = y[validate_index]\n",
    "    y_pred = decision_tree.predict(X[validate_index])\n",
    "    print('Root Mean Squared Error:', np.sqrt(metrics.mean_squared_error(y_test, y_pred)))\n",
    "    print(f\"Fold #{fold}, Training Size: {len(X[train_index])}, Validation Size: {len(X[validate_index])}\")\n",
    "    \n",
    "    fold += 1"
   ]
  },
  {
   "cell_type": "code",
   "execution_count": 8,
   "id": "513b5ee4",
   "metadata": {},
   "outputs": [
    {
     "data": {
      "image/png": "[encoded data removed]",
      "text/plain": [
       "<Figure size 432x288 with 1 Axes>"
      ]
     },
     "metadata": {
      "needs_background": "light"
     },
     "output_type": "display_data"
    }
   ],
   "source": [
    "plt.scatter(y_test[:100], y_pred[:100])\n",
    "#plt.plot(y_pred, y_test, color = 'green')\n",
    "plt.xlabel('Actual')\n",
    "plt.ylabel('Predicted')\n",
    "\n",
    "sb.regplot(x= y_test, y= y_pred, scatter = False)\n",
    "\n",
    "plt.show()"
   ]
  },
  {
   "cell_type": "code",
   "execution_count": 9,
   "id": "1c99bb0c",
   "metadata": {},
   "outputs": [],
   "source": [
    "\n",
    "df_compare = pd.DataFrame({'Actual': y_test, 'Predicted': y_pred})\n",
    "df_head = df_compare.head(25)"
   ]
  },
  {
   "cell_type": "code",
   "execution_count": 10,
   "id": "395ab326",
   "metadata": {},
   "outputs": [
    {
     "data": {
      "image/png": "[encoded data removed]",
      "text/plain": [
       "<Figure size 720x576 with 1 Axes>"
      ]
     },
     "metadata": {
      "needs_background": "light"
     },
     "output_type": "display_data"
    },
    {
     "name": "stdout",
     "output_type": "stream",
     "text": [
      "Mean: 208.0803381508886\n",
      "Root Mean Squared Error: 26.215208570342465\n"
     ]
    }
   ],
   "source": [
    "df_head.plot(kind = 'bar', figsize = (10,8))\n",
    "plt.grid(which='major', linestyle='-', linewidth='0.5', color='green')\n",
    "plt.grid(which='minor', linestyle=':', linewidth='0.5', color='black')\n",
    "plt.show()\n",
    "\n",
    "print('Mean:', np.mean(y_test))\n",
    "print('Root Mean Squared Error:', np.sqrt(metrics.mean_squared_error(y_test, y_pred)))"
   ]
  },
  {
   "cell_type": "code",
   "execution_count": 11,
   "id": "05251d97",
   "metadata": {},
   "outputs": [
    {
     "name": "stdout",
     "output_type": "stream",
     "text": [
      "Ridge model: [ 2.23358263e-05  7.01155779e+00  4.71327657e-01  6.91557453e-01\n",
      "  5.75134358e+01  6.51392897e-01  4.01240793e-01 -4.65785391e+02\n",
      "  1.05954799e+00 -1.23915889e+00]\n",
      "Train score: 0.9230845586055026\n",
      "Test score: 0.9238385542512175 \n",
      "\n",
      "Lasso model: [ 2.82404605e-05  6.98909396e+00  4.51896421e-01  6.37681614e-01\n",
      "  5.65937891e+01  6.15616945e-01  3.50200790e-01 -4.64362808e+02\n",
      "  1.08405790e+00 -1.23924928e+00]\n",
      "Train score: 0.923079635587371\n",
      "Test score: 0.9238376264465523\n"
     ]
    }
   ],
   "source": [
    "X_train, X_test, y_train, y_test = train_test_split(X, y)\n",
    "\n",
    "#Applying Ridge and Lasso regularisation to prevent overfitting of the linear regression model\n",
    "\n",
    "ridge = Ridge(alpha=.3)\n",
    "ridge.fit(X_train,y_train)\n",
    "print (\"Ridge model:\", (ridge.coef_))\n",
    "\n",
    "print(\"Train score:\", ridge.score(X_train, y_train))\n",
    "print(\"Test score:\", ridge.score(X_test, y_test), \"\\n\")\n",
    "\n",
    "lasso = Lasso(alpha=0.1)\n",
    "lasso.fit(X_train,y_train)\n",
    "print (\"Lasso model:\", (lasso.coef_))\n",
    "\n",
    "print(\"Train score:\", lasso.score(X_train, y_train))\n",
    "print(\"Test score:\", lasso.score(X_test, y_test))"
   ]
  },
  {
   "cell_type": "code",
   "execution_count": 12,
   "id": "3678b1f7",
   "metadata": {},
   "outputs": [],
   "source": [
    "decision_tree = DecisionTreeRegressor()"
   ]
  },
  {
   "cell_type": "code",
   "execution_count": 13,
   "id": "6adfff49",
   "metadata": {},
   "outputs": [
    {
     "name": "stdout",
     "output_type": "stream",
     "text": [
      "Root Mean Squared Error: 23.648349080310446\n",
      "Fold #1, Training Size: 231377, Validation Size: 57845\n",
      "Root Mean Squared Error: 24.285501180737853\n",
      "Fold #2, Training Size: 231377, Validation Size: 57845\n",
      "Root Mean Squared Error: 24.412481492306316\n",
      "Fold #3, Training Size: 231378, Validation Size: 57844\n",
      "Root Mean Squared Error: 24.24446681153005\n",
      "Fold #4, Training Size: 231378, Validation Size: 57844\n",
      "Root Mean Squared Error: 23.963756732656226\n",
      "Fold #5, Training Size: 231378, Validation Size: 57844\n"
     ]
    }
   ],
   "source": [
    "# Use 5-fold split\n",
    "kf = KFold(5,shuffle=True)\n",
    "\n",
    "fold = 1\n",
    "\n",
    "for train_index, validate_index in kf.split(X,y):\n",
    "    decision_tree.fit(X[train_index],y[train_index])\n",
    "    y_test = y[validate_index]\n",
    "    y_pred = decision_tree.predict(X[validate_index])\n",
    "    print('Root Mean Squared Error:', np.sqrt(metrics.mean_squared_error(y_test, y_pred)))\n",
    "    print(f\"Fold #{fold}, Training Size: {len(X[train_index])}, Validation Size: {len(X[validate_index])}\")\n",
    "    \n",
    "    fold += 1"
   ]
  },
  {
   "cell_type": "code",
   "execution_count": 14,
   "id": "7977912c",
   "metadata": {},
   "outputs": [
    {
     "data": {
      "image/png": "[encoded data removed]",
      "text/plain": [
       "<Figure size 432x288 with 1 Axes>"
      ]
     },
     "metadata": {
      "needs_background": "light"
     },
     "output_type": "display_data"
    }
   ],
   "source": [
    "plt.scatter(y_test[:100], y_pred[:100])\n",
    "#plt.plot(y_pred, y_test, color = 'green')\n",
    "plt.xlabel('Actual')\n",
    "plt.ylabel('Predicted')\n",
    "\n",
    "sb.regplot(x= y_test, y= y_pred, scatter = False)\n",
    "\n",
    "plt.show()"
   ]
  },
  {
   "cell_type": "code",
   "execution_count": 15,
   "id": "81a004a9",
   "metadata": {},
   "outputs": [],
   "source": [
    "\n",
    "df_compare = pd.DataFrame({'Actual': y_test, 'Predicted': y_pred})\n",
    "df_head = df_compare.head(25)"
   ]
  },
  {
   "cell_type": "code",
   "execution_count": 16,
   "id": "c510077a",
   "metadata": {},
   "outputs": [
    {
     "data": {
      "image/png": "[encoded data removed]",
      "text/plain": [
       "<Figure size 720x576 with 1 Axes>"
      ]
     },
     "metadata": {
      "needs_background": "light"
     },
     "output_type": "display_data"
    },
    {
     "name": "stdout",
     "output_type": "stream",
     "text": [
      "Mean: 208.6824970610608\n",
      "Root Mean Squared Error: 23.963756732656226\n"
     ]
    }
   ],
   "source": [
    "df_head.plot(kind = 'bar', figsize = (10,8))\n",
    "plt.grid(which='major', linestyle='-', linewidth='0.5', color='green')\n",
    "plt.grid(which='minor', linestyle=':', linewidth='0.5', color='black')\n",
    "plt.show()\n",
    "\n",
    "print('Mean:', np.mean(y_test))\n",
    "print('Root Mean Squared Error:', np.sqrt(metrics.mean_squared_error(y_test, y_pred)))"
   ]
  },
  {
   "cell_type": "code",
   "execution_count": 17,
   "id": "6e3d1670",
   "metadata": {},
   "outputs": [
    {
     "data": {
      "image/png": "[encoded data removed]",
      "text/plain": [
       "<Figure size 576x360 with 1 Axes>"
      ]
     },
     "metadata": {
      "needs_background": "light"
     },
     "output_type": "display_data"
    }
   ],
   "source": [
    "#Does price vary with airlines? \n",
    "\n",
    "# 0.Spicejet\n",
    "# 1.AirAsia\n",
    "# 2.Vistara\n",
    "# 3.GO_First\n",
    "# 4.Indigo\n",
    "# 5.AirIndia\n",
    "\n",
    "plt.figure(figsize = (8,5))\n",
    "sb.boxplot(data=df, x=\"airline\", y=\"price\")\n",
    "plt.title(\"Airlines with Prices\")\n",
    "plt.show()"
   ]
  },
  {
   "cell_type": "code",
   "execution_count": 18,
   "id": "d927eea5",
   "metadata": {},
   "outputs": [
    {
     "data": {
      "image/png": "[encoded data removed]",
      "text/plain": [
       "<Figure size 576x360 with 1 Axes>"
      ]
     },
     "metadata": {
      "needs_background": "light"
     },
     "output_type": "display_data"
    }
   ],
   "source": [
    "#How does the ticket price vary with the number of stops of a flight?\n",
    "plt.figure(figsize = (8,5))\n",
    "sb.boxplot(data=df, x=\"stops\", y=\"price\")\n",
    "plt.title(\"Stops with Prices\")\n",
    "plt.show()"
   ]
  },
  {
   "cell_type": "code",
   "execution_count": null,
   "id": "13b4985f",
   "metadata": {},
   "outputs": [],
   "source": []
  }
 ],
 "metadata": {
  "kernelspec": {
   "display_name": "Python 3 (ipykernel)",
   "language": "python",
   "name": "python3"
  },
  "language_info": {
   "codemirror_mode": {
    "name": "ipython",
    "version": 3
   },
   "file_extension": ".py",
   "mimetype": "text/x-python",
   "name": "python",
   "nbconvert_exporter": "python",
   "pygments_lexer": "ipython3",
   "version": "3.9.12"
  }
 },
 "nbformat": 4,
 "nbformat_minor": 5
}
